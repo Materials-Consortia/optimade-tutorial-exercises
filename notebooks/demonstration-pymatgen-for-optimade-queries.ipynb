{
 "cells": [
  {
   "cell_type": "markdown",
   "metadata": {
    "id": "vWwD6ckZ5WDo"
   },
   "source": [
    "# OPTIMADE and *pymatgen*"
   ]
  },
  {
   "cell_type": "markdown",
   "metadata": {
    "id": "JsRM6Vck5dJQ"
   },
   "source": [
    "# What is *pymatgen*?\n",
    "\n",
    "[*pymatgen*](https://pymatgen.org) is a materials science analysis code written in the Python programming language. It helps power the [Materials Project](https://materialsproject.org)'s high-throughput DFT workflows. It supports integration with a wide variety of simulation codes and can perform many analysis tasks such as the generation of phase diagrams or diffraction patterns.\n",
    "\n",
    "# The motivation behind this tutorial\n",
    "\n",
    "**This tutorial is aimed either at:**\n",
    "\n",
    "* People who are already familiar with using *pymatgen* or the Materials Project\n",
    "    * In particular, anyone already using the Materials Project API through the `MPRester`, and who would like to start using the OPTIMADE API in a similar way\n",
    "\n",
    "* People who like using Python and think they might appreciate an interface like the one provided by *pymatgen*.\n",
    "    * *pymatgen* provides a lot of input/output routines (such as conversion to CIF, POSCAR, etc.) and analysis tools (such as determination of symmetry, analysis of possible bonds, etc.) that can be performed directly on structures retrieved from OPTIMADE providers.\n",
    "\n",
    "**What this tutorial is not:**\n",
    "\n",
    "* This is not necessarily the way everyone should be accessing OPTIMADE providers!\n",
    "    * This tool may be useful to you, or it may not be. There are a lot of good tools available in our community. You are encouraged to try out different tools and find the one that's most useful for your own work.\n",
    "\n",
    "* It is not currently the best way to access OPTIMADE APIs for advanced users.\n",
    "    * It is still under development.\n",
    "    * It is unit tested against several OPTIMADE providers but **some do not work yet**.\n",
    "    * It only currently supports information retrieval from `/v1/structures/` routes.\n",
    "\n",
    "# Pre-requisites\n",
    "\n",
    "This tutorial is aimed at people who already have a basic understanding of Python, including how to import modules, the use of basic data structures like dictionaries and lists, and how to intantiate and use objects.\n",
    "\n",
    "If you do not have this understanding of Python, this tutorial may help you become familiar, but you are highly encouraged to follow a dedicated Python course such as those provided by [Software Carpentry](https://software-carpentry.org)."
   ]
  },
  {
   "cell_type": "markdown",
   "metadata": {
    "id": "9F5vb55q6SR-"
   },
   "source": [
    "# Install pymatgen"
   ]
  },
  {
   "cell_type": "markdown",
   "metadata": {
    "id": "8B2b286R69TC"
   },
   "source": [
    "This tutorial uses the Python programming language. It can be run on any computer with Python installed. For convenience, here we are running in Google's \"Colaboratory\" notebook environment.\n",
    "\n",
    "Before we begin, we must install the `pymatgen` package:"
   ]
  },
  {
   "cell_type": "code",
   "execution_count": null,
   "metadata": {
    "colab": {
     "base_uri": "https://localhost:8080/"
    },
    "id": "qU7Uolip7N-g",
    "outputId": "b756287e-3d19-444d-f91c-c4aea6c440a6"
   },
   "outputs": [],
   "source": [
    "!pip install 'pymatgen>=2023.2.22' pybtex"
   ]
  },
  {
   "cell_type": "markdown",
   "metadata": {
    "id": "f2gK8ZkZ6hMX"
   },
   "source": [
    "Next, let us **verify the correct version of *pymatgen* is installed**. This is good practice to do before starting out! For this tutorial we need version 2023.2.22 or above. We also need the `pybtex` package installed."
   ]
  },
  {
   "cell_type": "code",
   "execution_count": null,
   "metadata": {
    "id": "-Briwygk6goF"
   },
   "outputs": [],
   "source": [
    "try:\n",
    "    from importlib_metadata import version\n",
    "except ImportError:\n",
    "    from importlib.metadata import version"
   ]
  },
  {
   "cell_type": "code",
   "execution_count": null,
   "metadata": {
    "colab": {
     "base_uri": "https://localhost:8080/",
     "height": 35
    },
    "id": "zK-818jN7BOo",
    "outputId": "15f22406-261f-4a61-fd25-2c21ca204803"
   },
   "outputs": [],
   "source": [
    "version(\"pymatgen\")"
   ]
  },
  {
   "cell_type": "markdown",
   "metadata": {
    "id": "sSDGnxPo7SH8"
   },
   "source": [
    "# Import and learn about the `OptimadeRester`"
   ]
  },
  {
   "cell_type": "markdown",
   "metadata": {
    "id": "Rlk4_GaU7WEr"
   },
   "source": [
    "The `OptimadeRester` is a class that is designed to retrieve data from an OPTIMADE provider and automatically convert the data into *pymatgen* `Structure` objects. These `Structure` objects are designed as a good intermediate format for crystallographic structure analysis, transformation and input/output.\n",
    "\n",
    "You can read documentation on the `OptimadeRester` here: https://pymatgen.org/pymatgen.ext.optimade.html"
   ]
  },
  {
   "cell_type": "code",
   "execution_count": null,
   "metadata": {
    "id": "7l9gvSYz7Evd"
   },
   "outputs": [],
   "source": [
    "from pymatgen.ext.optimade import OptimadeRester"
   ]
  },
  {
   "cell_type": "markdown",
   "metadata": {
    "id": "KwSlb2-c90rf"
   },
   "source": [
    "The first step is to inspect the **documentation** for the `OptimadeRester`. We can run:"
   ]
  },
  {
   "cell_type": "code",
   "execution_count": null,
   "metadata": {
    "id": "M-UkaQxa82ET"
   },
   "outputs": [],
   "source": [
    "OptimadeRester?"
   ]
  },
  {
   "cell_type": "markdown",
   "metadata": {
    "id": "JD7m54BO_ZzQ"
   },
   "source": [
    "# Understanding \"aliases\" as shortcuts for accessing given providers"
   ]
  },
  {
   "cell_type": "code",
   "execution_count": null,
   "metadata": {
    "colab": {
     "base_uri": "https://localhost:8080/"
    },
    "id": "7hDTvvXz_ZFk",
    "outputId": "19562289-6c19-488a-8276-965e99152eee"
   },
   "outputs": [],
   "source": [
    "OptimadeRester.aliases"
   ]
  },
  {
   "cell_type": "markdown",
   "metadata": {
    "id": "WjIcFt4t_ka4"
   },
   "source": [
    "These aliases are useful since they can provide a quick shorthand for a given database without having to remember a full URL.\n",
    "\n",
    "This list of aliases is updated periodically. However, new OPTIMADE providers can be made available and will be listed at https://providers.optimade.org. The `OptimadeRester` can query the OPTIMADE providers list to refresh the available aliases.\n",
    "\n",
    "You can do this as follows, but be aware this might take a few moments:"
   ]
  },
  {
   "cell_type": "code",
   "execution_count": null,
   "metadata": {
    "colab": {
     "base_uri": "https://localhost:8080/"
    },
    "id": "tDbwPyUU_isv",
    "outputId": "68ae47fa-3b3c-4ff7-9edc-e14153997cea"
   },
   "outputs": [],
   "source": [
    "opt = OptimadeRester()\n",
    "opt.refresh_aliases()"
   ]
  },
  {
   "cell_type": "markdown",
   "metadata": {
    "id": "OxH1lIdHA1Yi"
   },
   "source": [
    "# Connecting to one or more OPTIMADE providers\n",
    "\n",
    "Let's begin by connecting to the Materials Project (`mp`) and 2DMatPedia (`twodmatpedia`) databases.\n",
    "By default pymatgen expects a server to reply within 5 seconds, some servers however require up to several minutes to process a querry.\n",
    "You can therefore set the timeout to a different value (in seconds) if you get a \"Read timed out\" error."
   ]
  },
  {
   "cell_type": "code",
   "execution_count": null,
   "metadata": {
    "id": "RmOlXNC2A0wF"
   },
   "outputs": [],
   "source": [
    "opt = OptimadeRester([\"mp\", \"twodmatpedia\"], timeout=10)"
   ]
  },
  {
   "cell_type": "markdown",
   "metadata": {
    "id": "j9Psdj2eBGXA"
   },
   "source": [
    "We can find more information about the OPTIMADE providers we are connected to using the `describe()` method."
   ]
  },
  {
   "cell_type": "code",
   "execution_count": null,
   "metadata": {
    "colab": {
     "base_uri": "https://localhost:8080/"
    },
    "id": "wrmCKA5SBFoQ",
    "outputId": "90ad4dcd-bfe7-4f9c-8892-d586e5a46e4b"
   },
   "outputs": [],
   "source": [
    "print(opt.describe())"
   ]
  },
  {
   "cell_type": "markdown",
   "metadata": {
    "id": "YzaXCWkuBa98"
   },
   "source": [
    "# Query for materials: binary nitrides case study\n",
    "\n",
    "`OptimadeRester` provides an `get_structures` method. **It does not support all features of OPTIMADE filters** but is a good place to get started.\n",
    "\n",
    "For this case study, we will search for materials containing nitrogen and that have two elements."
   ]
  },
  {
   "cell_type": "code",
   "execution_count": null,
   "metadata": {
    "colab": {
     "base_uri": "https://localhost:8080/"
    },
    "id": "Nq3vHIg-BQpC",
    "outputId": "845250c5-de2f-4f41-d3e7-97e23fee60b6"
   },
   "outputs": [],
   "source": [
    "results = opt.get_structures(elements=[\"N\"], nelements=2)"
   ]
  },
  {
   "cell_type": "markdown",
   "metadata": {
    "id": "ReyWVPsWB3Kr"
   },
   "source": [
    "We see that the `OptimadeRester` does some of the hard work for us: it automatically retrieves multiple pages of results when many results are available, and also gives us a progress bar.\n",
    "\n",
    "Let us inspect the `results`:"
   ]
  },
  {
   "cell_type": "code",
   "execution_count": null,
   "metadata": {
    "colab": {
     "base_uri": "https://localhost:8080/"
    },
    "id": "pgt2xFziCKmQ",
    "outputId": "18cf5db3-e6a4-47fb-fea0-e8be1b31cebc"
   },
   "outputs": [],
   "source": [
    "type(results)  # this method returns a dictionary, so let's examine the keys of this dictionary..."
   ]
  },
  {
   "cell_type": "code",
   "execution_count": null,
   "metadata": {
    "colab": {
     "base_uri": "https://localhost:8080/"
    },
    "id": "TWpcjldECY3V",
    "outputId": "884967ed-4463-46f4-c762-da898631ae85"
   },
   "outputs": [],
   "source": [
    "results.keys()  # we see that the results dictionary is keyed by provider/alias"
   ]
  },
  {
   "cell_type": "code",
   "execution_count": null,
   "metadata": {
    "colab": {
     "base_uri": "https://localhost:8080/"
    },
    "id": "p-gIUNm4Cdho",
    "outputId": "d08bf60a-811f-434a-cee6-1161d4d36982"
   },
   "outputs": [],
   "source": [
    "results['mp'].keys()  # and these are then keyed by that database's unique identifier"
   ]
  },
  {
   "cell_type": "markdown",
   "metadata": {
    "id": "-C0T49T0Cnwe"
   },
   "source": [
    "So let us inspect one structure as an example:"
   ]
  },
  {
   "cell_type": "code",
   "execution_count": null,
   "metadata": {
    "colab": {
     "base_uri": "https://localhost:8080/"
    },
    "id": "WRxgOpFMCm9t",
    "outputId": "c1dee368-e7be-48c9-a711-7300bb3bf856"
   },
   "outputs": [],
   "source": [
    "example_structure = results['mp']['mp-804']\n",
    "print(example_structure)"
   ]
  },
  {
   "cell_type": "markdown",
   "metadata": {
    "id": "vd9QJinuDEi7"
   },
   "source": [
    "We can then use *pymatgen* to further manipulate these `Structure` objects, for example to calculate the spacegroup or to convert to a CIF:"
   ]
  },
  {
   "cell_type": "code",
   "execution_count": null,
   "metadata": {
    "colab": {
     "base_uri": "https://localhost:8080/"
    },
    "id": "cQnh2J6PClsU",
    "outputId": "c8cdc6f9-00a4-4e5d-f73f-4dd86e72fbee"
   },
   "outputs": [],
   "source": [
    "example_structure.get_space_group_info()"
   ]
  },
  {
   "cell_type": "code",
   "execution_count": null,
   "metadata": {
    "colab": {
     "base_uri": "https://localhost:8080/"
    },
    "id": "DdkFGoLu78yn",
    "outputId": "1e750eba-f180-40ba-d022-ff37429109e3"
   },
   "outputs": [],
   "source": [
    "print(example_structure.to(fmt=\"cif\", symprec=0.01))"
   ]
  },
  {
   "cell_type": "markdown",
   "metadata": {
    "id": "Pfy4pz7KDYRT"
   },
   "source": [
    "# Data analysis"
   ]
  },
  {
   "cell_type": "markdown",
   "metadata": {
    "id": "kK-3QNMIE7h7"
   },
   "source": [
    "This section I will use some code I prepared earlier to summarize the `results` into a tabular format (`DataFrame`)."
   ]
  },
  {
   "cell_type": "code",
   "execution_count": null,
   "metadata": {
    "id": "1ox0FPvvE-Id"
   },
   "outputs": [],
   "source": [
    "import pandas as pd"
   ]
  },
  {
   "cell_type": "code",
   "execution_count": null,
   "metadata": {
    "id": "QIzNLNQVFGA4"
   },
   "outputs": [],
   "source": [
    "records = []\n",
    "for provider, structures in results.items():\n",
    "    for identifier, structure in structures.items():\n",
    "        records.append({\n",
    "            \"provider\": provider,\n",
    "            \"identifier\": identifier,\n",
    "            \"formula\": structure.composition.reduced_formula,\n",
    "            \"spacegroup\": structure.get_space_group_info()[0],\n",
    "            \"a_lattice_param\": structure.lattice.a,\n",
    "            \"volume\": structure.volume,\n",
    "        })\n",
    "df = pd.DataFrame(records)"
   ]
  },
  {
   "cell_type": "code",
   "execution_count": null,
   "metadata": {
    "colab": {
     "base_uri": "https://localhost:8080/",
     "height": 419
    },
    "id": "OZIeQr6xFi8D",
    "outputId": "d5f7010d-0970-4507-df37-c2f6645ac9e0"
   },
   "outputs": [],
   "source": [
    "df"
   ]
  },
  {
   "cell_type": "markdown",
   "metadata": {
    "id": "A-ue234PHJxs"
   },
   "source": [
    "To pick one specific formula as an example, we can use tools from `pandas` to show the spacegroups present for that formula:"
   ]
  },
  {
   "cell_type": "code",
   "execution_count": null,
   "metadata": {
    "colab": {
     "base_uri": "https://localhost:8080/"
    },
    "id": "p5cge1ulFkqX",
    "outputId": "e503d0e9-dc48-48e1-f630-1777940b19f3"
   },
   "outputs": [],
   "source": [
    "df[df[\"formula\"] == \"GaN\"].spacegroup"
   ]
  },
  {
   "cell_type": "markdown",
   "metadata": {
    "id": "Vd_P1qlNHWfx"
   },
   "source": [
    "Here, we see that there are a few common high-symmetry spacegroups (such as $P6_3mc$) there are also many low-symmetry structures ($P1$).\n",
    "\n",
    "I know that in this instance, this is because the $P1$ structures are actually amorphous and not crystalline. This highlights the importance of doing appropraiate **data cleaning** on retrieved data."
   ]
  },
  {
   "cell_type": "markdown",
   "metadata": {
    "id": "e2LAxE7kJvXJ"
   },
   "source": [
    "### Plotting data\n",
    "\n",
    "As a quick example, we can also plot information in our table:"
   ]
  },
  {
   "cell_type": "code",
   "execution_count": null,
   "metadata": {
    "id": "6oeo_5YEI4qg"
   },
   "outputs": [],
   "source": [
    "import plotly.express as px"
   ]
  },
  {
   "cell_type": "code",
   "execution_count": null,
   "metadata": {
    "colab": {
     "base_uri": "https://localhost:8080/",
     "height": 542
    },
    "id": "Gddx0gRdI6bd",
    "outputId": "676da693-e222-413d-804f-7731d40e35f7"
   },
   "outputs": [],
   "source": [
    "px.bar(df, x=\"spacegroup\", facet_row=\"provider\")"
   ]
  },
  {
   "cell_type": "markdown",
   "metadata": {
    "id": "Rqj5hwDeJ8hT"
   },
   "source": [
    "**Remember, there is no single \"best database\" to use. Every database might be constructed for a specific purpose, subject to different biases, with different data qualities and sources.**\n",
    "\n",
    "The ideal database for one scientist with one application in mind may be different to the ideal database for another scientist with a different application.\n",
    "\n",
    "**The power of OPTIMADE is that you can query across multiple databases!**"
   ]
  },
  {
   "cell_type": "markdown",
   "metadata": {
    "id": "bgVYGrKgH8hD"
   },
   "source": [
    "# Advanced usage: querying using the OPTIMADE filter grammar"
   ]
  },
  {
   "cell_type": "markdown",
   "metadata": {
    "id": "7DleRA6lIBjQ"
   },
   "source": [
    "You can also query using an OPTIMADE filter as defined in the OPTIMADE specification and publication.\n",
    "\n",
    "**This is recommended** for advanced queries to use the full power of OPTIMADE.\n",
    "\n",
    "For example, the above query could have equally been performed as:"
   ]
  },
  {
   "cell_type": "code",
   "execution_count": null,
   "metadata": {
    "colab": {
     "base_uri": "https://localhost:8080/"
    },
    "id": "tPYRnwpiHqwc",
    "outputId": "c306708c-8c78-474a-af4d-ccea2e6b4b63"
   },
   "outputs": [],
   "source": [
    "results = opt.get_structures_with_filter('(elements HAS ALL \"N\") AND (nelements=2)')"
   ]
  },
  {
   "cell_type": "markdown",
   "metadata": {
    "id": "aIweKxr2ItcS"
   },
   "source": [
    "# Advanced usage: retrieving provider-specific property information\n",
    "\n",
    "The OPTIMADE specification allows for providers to include database-specific information in the returned data, prefixed by namespace.\n",
    "\n",
    "To access this information with *pymatgen* we have to request \"snls\" (`StructureNL`) instead of \"structures\". A `StructureNL` is a `Structure` with additional metadata included, such as the URL it was downloaded from and any of this additional database-specific information."
   ]
  },
  {
   "cell_type": "code",
   "execution_count": null,
   "metadata": {
    "colab": {
     "base_uri": "https://localhost:8080/"
    },
    "id": "XqvfXpXgIafz",
    "outputId": "f5619590-1051-40f6-d7b3-11725144792a"
   },
   "outputs": [],
   "source": [
    "results_snls = OptimadeRester(\"odbx\").get_snls(nelements=2, additional_response_fields=[\"_odbx_thermodynamics\"])"
   ]
  },
  {
   "cell_type": "code",
   "execution_count": null,
   "metadata": {
    "id": "M2T0dGN0Khsm"
   },
   "outputs": [],
   "source": [
    "example_snl = results_snls['odbx']['odbx/2']"
   ]
  },
  {
   "cell_type": "code",
   "execution_count": null,
   "metadata": {
    "colab": {
     "base_uri": "https://localhost:8080/"
    },
    "id": "qV--VAdvNrKn",
    "outputId": "56d0e3b0-56c8-4664-8dbb-11c9c5f1758d"
   },
   "outputs": [],
   "source": [
    "example_snl.data['_optimade']['_odbx_thermodynamics']"
   ]
  },
  {
   "cell_type": "markdown",
   "metadata": {
    "id": "NMppI0eiN4jF"
   },
   "source": [
    "This extra data provided differs from every database, and sometimes from material to material, so some exploration is required!"
   ]
  },
  {
   "cell_type": "markdown",
   "metadata": {
    "id": "JNWBkj91LWWO"
   },
   "source": [
    "# When Things Go Wrong and How to Get Help\n",
    "\n",
    "Bugs may be present! The `OptimadeRester` is still fairly new.\n",
    "\n",
    "If it does not work it is likely because of either:\n",
    "\n",
    "* A bug in the *pymatgen* code. This may be reported directly to Matthew Horton at mkhorton@lbl.gov or an issue can be opened in the *pymatgen* code repository. Matt apologises in advance if this is the case! \n",
    "\n",
    "* An issue with a provider. This may be because the provider does not yet fully follow the OPTIMADE specification, because the provider is suffering an outage, or because the filters are not yet optimized with that provider.\n",
    "\n",
    "    * If this happens, you may try to first increase the `timeout` value to something larger. The default is too low for some providers.\n",
    "\n",
    "    * Otherwise, you may want to contact the provider directly, or create a post at the OPTIMADE discussion forum: https://matsci.org/optimade\n",
    "\n",
    "# How to Get Involved\n",
    "\n",
    "New developers are very welcome to add code to *pymatgen*! If you want to get involved, help fix bugs or add new features, your help would be very much appreciated. *pymatgen* can only exist and be what it is today thanks to the many efforts of its [development team](https://pymatgen.org/team.html)."
   ]
  },
  {
   "cell_type": "code",
   "execution_count": null,
   "metadata": {},
   "outputs": [],
   "source": []
  }
 ],
 "metadata": {
  "colab": {
   "collapsed_sections": [],
   "name": "OPTIMADE tutorial with pymatgen.ipynb",
   "provenance": []
  },
  "kernelspec": {
   "display_name": "Python [conda env:optimade_pymatgen_exercise]",
   "language": "python",
   "name": "conda-env-optimade_pymatgen_exercise-py"
  },
  "language_info": {
   "codemirror_mode": {
    "name": "ipython",
    "version": 3
   },
   "file_extension": ".py",
   "mimetype": "text/x-python",
   "name": "python",
   "nbconvert_exporter": "python",
   "pygments_lexer": "ipython3",
   "version": "3.9.16"
  }
 },
 "nbformat": 4,
 "nbformat_minor": 1
}
