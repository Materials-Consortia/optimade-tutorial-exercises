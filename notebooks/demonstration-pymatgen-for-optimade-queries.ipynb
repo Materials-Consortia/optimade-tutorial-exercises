{
  "cells": [
    {
      "cell_type": "markdown",
      "metadata": {
        "id": "vWwD6ckZ5WDo"
      },
      "source": [
        "# OPTIMADE and *pymatgen*"
      ]
    },
    {
      "cell_type": "markdown",
      "metadata": {
        "id": "JsRM6Vck5dJQ"
      },
      "source": [
        "# What is *pymatgen*?\n",
        "\n",
        "[*pymatgen*](https://pymatgen.org) is a materials science analysis code written in the Python programming language. It helps power the [Materials Project](https://materialsproject.org)'s high-throughput DFT workflows. It supports integration with a wide variety of simulation codes and can perform many analysis tasks such as the generation of phase diagrams or diffraction patterns.\n",
        "\n",
        "# The motivation behind this tutorial\n",
        "\n",
        "**This tutorial is aimed either at:**\n",
        "\n",
        "* People who are already familiar with using *pymatgen* or the Materials Project\n",
        "    * In particular, anyone already using the Materials Project API through the `MPRester`, and who would like to start using the OPTIMADE API in a similar way\n",
        "\n",
        "* People who like using Python and think they might appreciate an interface like the one provided by *pymatgen*.\n",
        "    * *pymatgen* provides a lot of input/output routines (such as conversion to CIF, POSCAR, etc.) and analysis tools (such as determination of symmetry, analysis of possible bonds, etc.) that can be performed directly on structures retrieved from OPTIMADE providers.\n",
        "\n",
        "**What this tutorial is not:**\n",
        "\n",
        "* This is not necessarily the way everyone should be accessing OPTIMADE providers!\n",
        "    * This tool may be useful to you, or it may not be. There are a lot of good tools available in our community. You are encouraged to try out different tools and find the one that's most useful for your own work.\n",
        "\n",
        "* It is not currently the best way to access OPTIMADE APIs for advanced users.\n",
        "    * It is still under development.\n",
        "    * It is unit tested against several OPTIMADE providers but **some do not work yet**.\n",
        "    * It only currently supports information retrieval from `/v1/structures/` routes.\n",
        "\n",
        "# Pre-requisites\n",
        "\n",
        "This tutorial is aimed at people who already have a basic understanding of Python, including how to import modules, the use of basic data structures like dictionaries and lists, and how to intantiate and use objects.\n",
        "\n",
        "If you do not have this understanding of Python, this tutorial may help you become familiar, but you are highly encouraged to follow a dedicated Python course such as those provided by [Software Carpentry](https://software-carpentry.org)."
      ]
    },
    {
      "cell_type": "markdown",
      "metadata": {
        "id": "9F5vb55q6SR-"
      },
      "source": [
        "# Install pymatgen"
      ]
    },
    {
      "cell_type": "markdown",
      "metadata": {
        "id": "8B2b286R69TC"
      },
      "source": [
        "This tutorial uses the Python programming language. It can be run on any computer with Python installed. For convenience, here we are running in Google's \"Colaboratory\" notebook environment.\n",
        "\n",
        "Before we begin, we must install the `pymatgen` package:"
      ]
    },
    {
      "cell_type": "code",
      "execution_count": null,
      "metadata": {
        "colab": {
          "base_uri": "https://localhost:8080/"
        },
        "id": "qU7Uolip7N-g",
        "outputId": "b756287e-3d19-444d-f91c-c4aea6c440a6"
      },
      "outputs": [],
      "source": [
        "%pip install pymatgen pybtex"
      ]
    },
    {
      "cell_type": "markdown",
      "metadata": {
        "id": "f2gK8ZkZ6hMX"
      },
      "source": [
        "Next, let us **verify the correct version of *pymatgen* is installed**. This is good practice to do before starting out! For this tutorial we need version 2022.0.17 or above. We also need the `pybtex` package installed."
      ]
    },
    {
      "cell_type": "code",
      "execution_count": 104,
      "metadata": {
        "id": "-Briwygk6goF"
      },
      "outputs": [],
      "source": [
        "try:\n",
        "    from importlib_metadata import version\n",
        "except ImportError:\n",
        "    from importlib.metadata import version"
      ]
    },
    {
      "cell_type": "code",
      "execution_count": 105,
      "metadata": {
        "colab": {
          "base_uri": "https://localhost:8080/",
          "height": 35
        },
        "id": "zK-818jN7BOo",
        "outputId": "15f22406-261f-4a61-fd25-2c21ca204803"
      },
      "outputs": [
        {
          "data": {
            "application/vnd.google.colaboratory.intrinsic+json": {
              "type": "string"
            },
            "text/plain": [
              "'2022.0.14'"
            ]
          },
          "execution_count": 105,
          "metadata": {},
          "output_type": "execute_result"
        }
      ],
      "source": [
        "version(\"pymatgen\")"
      ]
    },
    {
      "cell_type": "markdown",
      "metadata": {
        "id": "sSDGnxPo7SH8"
      },
      "source": [
        "# Import and learn about the `OptimadeRester`"
      ]
    },
    {
      "cell_type": "markdown",
      "metadata": {
        "id": "Rlk4_GaU7WEr"
      },
      "source": [
        "The `OptimadeRester` is a class that is designed to retrieve data from an OPTIMADE provider and automatically convert the data into *pymatgen* `Structure` objects. These `Structure` objects are designed as a good intermediate format for crystallographic structure analysis, transformation and input/output.\n",
        "\n",
        "You can read documentation on the `OptimadeRester` here: https://pymatgen.org/pymatgen.ext.optimade.html"
      ]
    },
    {
      "cell_type": "code",
      "execution_count": 106,
      "metadata": {
        "id": "7l9gvSYz7Evd"
      },
      "outputs": [],
      "source": [
        "from pymatgen.ext.optimade import OptimadeRester"
      ]
    },
    {
      "cell_type": "markdown",
      "metadata": {
        "id": "KwSlb2-c90rf"
      },
      "source": [
        "The first step is to inspect the **documentation** for the `OptimadeRester`. We can run:"
      ]
    },
    {
      "cell_type": "code",
      "execution_count": 107,
      "metadata": {
        "id": "M-UkaQxa82ET"
      },
      "outputs": [],
      "source": [
        "OptimadeRester?"
      ]
    },
    {
      "cell_type": "markdown",
      "metadata": {
        "id": "JD7m54BO_ZzQ"
      },
      "source": [
        "# Understanding \"aliases\" as shortcuts for accessing given providers"
      ]
    },
    {
      "cell_type": "code",
      "execution_count": 108,
      "metadata": {
        "colab": {
          "base_uri": "https://localhost:8080/"
        },
        "id": "7hDTvvXz_ZFk",
        "outputId": "19562289-6c19-488a-8276-965e99152eee"
      },
      "outputs": [
        {
          "data": {
            "text/plain": [
              "{'aflow': 'http://aflow.org/API/optimade/',\n",
              " 'cod': 'https://www.crystallography.net/cod/optimade',\n",
              " 'mcloud.2dstructures': 'https://aiida.materialscloud.org/2dstructures/optimade',\n",
              " 'mcloud.2dtopo': 'https://aiida.materialscloud.org/2dtopo/optimade',\n",
              " 'mcloud.curated-cofs': 'https://aiida.materialscloud.org/curated-cofs/optimade',\n",
              " 'mcloud.li-ion-conductors': 'https://aiida.materialscloud.org/li-ion-conductors/optimade',\n",
              " 'mcloud.optimade-sample': 'https://aiida.materialscloud.org/optimade-sample/optimade',\n",
              " 'mcloud.pyrene-mofs': 'https://aiida.materialscloud.org/pyrene-mofs/optimade',\n",
              " 'mcloud.scdm': 'https://aiida.materialscloud.org/autowannier/optimade',\n",
              " 'mcloud.sssp': 'https://aiida.materialscloud.org/sssplibrary/optimade',\n",
              " 'mcloud.stoceriaitf': 'https://aiida.materialscloud.org/stoceriaitf/optimade',\n",
              " 'mcloud.tc-applicability': 'https://aiida.materialscloud.org/tc-applicability/optimade',\n",
              " 'mcloud.threedd': 'https://aiida.materialscloud.org/3dd/optimade',\n",
              " 'mp': 'https://optimade.materialsproject.org',\n",
              " 'odbx': 'https://optimade.odbx.science',\n",
              " 'omdb.omdb_production': 'http://optimade.openmaterialsdb.se',\n",
              " 'oqmd': 'http://oqmd.org/optimade/',\n",
              " 'tcod': 'https://www.crystallography.net/tcod/optimade'}"
            ]
          },
          "execution_count": 108,
          "metadata": {},
          "output_type": "execute_result"
        }
      ],
      "source": [
        "OptimadeRester.aliases"
      ]
    },
    {
      "cell_type": "markdown",
      "metadata": {
        "id": "WjIcFt4t_ka4"
      },
      "source": [
        "These aliases are useful since they can provide a quick shorthand for a given database without having to remember a full URL.\n",
        "\n",
        "This list of aliases is updated periodically. However, new OPTIMADE providers can be made available and will be listed at https://providers.optimade.org. The `OptimadeRester` can query the OPTIMADE providers list to refresh the available aliases.\n",
        "\n",
        "You can do this as follows, but be aware this might take a few moments:"
      ]
    },
    {
      "cell_type": "code",
      "execution_count": 109,
      "metadata": {
        "colab": {
          "base_uri": "https://localhost:8080/"
        },
        "id": "tDbwPyUU_isv",
        "outputId": "68ae47fa-3b3c-4ff7-9edc-e14153997cea"
      },
      "outputs": [
        {
          "name": "stdout",
          "output_type": "stream",
          "text": [
            "Connecting to all known OPTIMADE providers, this will be slow. Please connect to only the OPTIMADE providers you want to query. Choose from: aflow, cod, mcloud.2dstructures, mcloud.2dtopo, mcloud.curated-cofs, mcloud.li-ion-conductors, mcloud.optimade-sample, mcloud.pyrene-mofs, mcloud.scdm, mcloud.sssp, mcloud.stoceriaitf, mcloud.tc-applicability, mcloud.threedd, mp, odbx, omdb.omdb_production, oqmd, tcod\n"
          ]
        },
        {
          "name": "stderr",
          "output_type": "stream",
          "text": [
            "\n",
            "odbx: 100%|██████████| 54/54 [00:19<00:00, 26.75it/s]\u001b[A"
          ]
        }
      ],
      "source": [
        "opt = OptimadeRester()\n",
        "opt.refresh_aliases()\n",
        "\n",
        "latest_aliases = opt.aliases"
      ]
    },
    {
      "cell_type": "markdown",
      "metadata": {
        "id": "OxH1lIdHA1Yi"
      },
      "source": [
        "# Connecting to one or more OPTIMADE providers\n",
        "\n",
        "Let's begin by connecting to the Materials Project (`mp`) and Materials Cloud \"2D Structures\" (`mcloud.2dstructures`) databases.\n",
        "By default pymatgen expects a server to reply within 5 seconds, some servers however require up to several minutes to process a querry.\n",
        "You can therefore set the timeout to a different value (in seconds) if you get a \"Read timed out\" error."
      ]
    },
    {
      "cell_type": "code",
      "execution_count": 110,
      "metadata": {
        "id": "RmOlXNC2A0wF"
      },
      "outputs": [],
      "source": [
        "opt = OptimadeRester([\"mp\", \"https://aiida.materialscloud.org/mc2d/optimade\"]],timeout=10)"
      ]
    },
    {
      "cell_type": "markdown",
      "metadata": {
        "id": "j9Psdj2eBGXA"
      },
      "source": [
        "We can find more information about the OPTIMADE providers we are connected to using the `describe()` method."
      ]
    },
    {
      "cell_type": "code",
      "execution_count": 111,
      "metadata": {
        "colab": {
          "base_uri": "https://localhost:8080/"
        },
        "id": "wrmCKA5SBFoQ",
        "outputId": "90ad4dcd-bfe7-4f9c-8892-d586e5a46e4b"
      },
      "outputs": [
        {
          "name": "stdout",
          "output_type": "stream",
          "text": [
            "OptimadeRester connected to:\n",
            "Provider(name='The Materials Project', base_url='https://optimade.materialsproject.org', description='The Materials Project OPTIMADE endpoint', homepage='https://materialsproject.org', prefix='mp')\n",
            "Provider(name='Materials Cloud', base_url='https://aiida.materialscloud.org/3dd/optimade', description='A platform for Open Science built for seamless sharing of resources in computational materials science', homepage='https://materialscloud.org', prefix='mcloud')\n"
          ]
        }
      ],
      "source": [
        "print(opt.describe())"
      ]
    },
    {
      "cell_type": "markdown",
      "metadata": {
        "id": "YzaXCWkuBa98"
      },
      "source": [
        "# Query for materials: binary nitrides case study\n",
        "\n",
        "`OptimadeRester` provides an `get_structures` method. **It does not support all features of OPTIMADE filters** but is a good place to get started.\n",
        "\n",
        "For this case study, we will search for materials containing nitrogen and that have two elements."
      ]
    },
    {
      "cell_type": "code",
      "execution_count": 112,
      "metadata": {
        "colab": {
          "base_uri": "https://localhost:8080/"
        },
        "id": "Nq3vHIg-BQpC",
        "outputId": "845250c5-de2f-4f41-d3e7-97e23fee60b6"
      },
      "outputs": [
        {
          "name": "stderr",
          "output_type": "stream",
          "text": [
            "\n",
            "\n",
            "\n",
            "mp:   2%|▏         | 20/892 [00:00<?, ?it/s]\u001b[A\u001b[A\u001b[A\n",
            "\n",
            "\n",
            "mp:   4%|▍         | 40/892 [00:00<00:10, 80.59it/s]\u001b[A\u001b[A\u001b[A\n",
            "\n",
            "\n",
            "mp:   7%|▋         | 60/892 [00:00<00:16, 50.73it/s]\u001b[A\u001b[A\u001b[A\n",
            "\n",
            "\n",
            "mp:   9%|▉         | 80/892 [00:01<00:15, 52.98it/s]\u001b[A\u001b[A\u001b[A\n",
            "\n",
            "\n",
            "mp:  11%|█         | 100/892 [00:01<00:13, 57.95it/s]\u001b[A\u001b[A\u001b[A\n",
            "\n",
            "\n",
            "mp:  13%|█▎        | 120/892 [00:01<00:15, 50.05it/s]\u001b[A\u001b[A\u001b[A\n",
            "\n",
            "\n",
            "mp:  16%|█▌        | 140/892 [00:02<00:13, 54.44it/s]\u001b[A\u001b[A\u001b[A\n",
            "\n",
            "\n",
            "mp:  18%|█▊        | 160/892 [00:02<00:13, 54.04it/s]\u001b[A\u001b[A\u001b[A\n",
            "\n",
            "\n",
            "mp:  20%|██        | 180/892 [00:03<00:14, 47.85it/s]\u001b[A\u001b[A\u001b[A\n",
            "\n",
            "\n",
            "mp:  22%|██▏       | 200/892 [00:03<00:14, 46.13it/s]\u001b[A\u001b[A\u001b[A\n",
            "\n",
            "\n",
            "mp:  25%|██▍       | 220/892 [00:04<00:15, 44.63it/s]\u001b[A\u001b[A\u001b[A\n",
            "\n",
            "\n",
            "mp:  27%|██▋       | 240/892 [00:04<00:14, 43.67it/s]\u001b[A\u001b[A\u001b[A\n",
            "\n",
            "\n",
            "mp:  29%|██▉       | 260/892 [00:04<00:13, 46.71it/s]\u001b[A\u001b[A\u001b[A\n",
            "\n",
            "\n",
            "mp:  31%|███▏      | 280/892 [00:05<00:12, 49.17it/s]\u001b[A\u001b[A\u001b[A\n",
            "\n",
            "\n",
            "mp:  34%|███▎      | 300/892 [00:05<00:12, 46.48it/s]\u001b[A\u001b[A\u001b[A\n",
            "\n",
            "\n",
            "mp:  36%|███▌      | 320/892 [00:06<00:10, 52.24it/s]\u001b[A\u001b[A\u001b[A\n",
            "\n",
            "\n",
            "mp:  38%|███▊      | 340/892 [00:06<00:09, 56.87it/s]\u001b[A\u001b[A\u001b[A\n",
            "\n",
            "\n",
            "mp:  40%|████      | 360/892 [00:06<00:08, 59.89it/s]\u001b[A\u001b[A\u001b[A\n",
            "\n",
            "\n",
            "mp:  43%|████▎     | 380/892 [00:07<00:09, 52.13it/s]\u001b[A\u001b[A\u001b[A\n",
            "\n",
            "\n",
            "mp:  45%|████▍     | 400/892 [00:07<00:08, 55.45it/s]\u001b[A\u001b[A\u001b[A\n",
            "\n",
            "\n",
            "mp:  47%|████▋     | 420/892 [00:07<00:07, 59.55it/s]\u001b[A\u001b[A\u001b[A\n",
            "\n",
            "\n",
            "mp: 100%|██████████| 892/892 [07:30<00:00,  1.94it/s]\n",
            "mcloud.threedd: 100%|██████████| 87/87 [07:13<00:00,  6.02s/it]\n",
            "odbx: 100%|██████████| 54/54 [00:30<00:00,  1.11it/s]\n",
            "\n",
            "\n",
            "\n",
            "mp:  52%|█████▏    | 460/892 [00:08<00:08, 50.54it/s]\u001b[A\u001b[A\u001b[A\n",
            "\n",
            "\n",
            "mp:  54%|█████▍    | 480/892 [00:08<00:08, 48.59it/s]\u001b[A\u001b[A\u001b[A\n",
            "\n",
            "\n",
            "mp:  56%|█████▌    | 500/892 [00:09<00:07, 52.73it/s]\u001b[A\u001b[A\u001b[A\n",
            "\n",
            "\n",
            "mp:  58%|█████▊    | 520/892 [00:09<00:07, 52.49it/s]\u001b[A\u001b[A\u001b[A\n",
            "\n",
            "\n",
            "mp:  61%|██████    | 540/892 [00:09<00:06, 56.16it/s]\u001b[A\u001b[A\u001b[A\n",
            "\n",
            "\n",
            "mp:  63%|██████▎   | 560/892 [00:10<00:06, 55.00it/s]\u001b[A\u001b[A\u001b[A\n",
            "\n",
            "\n",
            "mp:  65%|██████▌   | 580/892 [00:10<00:05, 58.61it/s]\u001b[A\u001b[A\u001b[A\n",
            "\n",
            "\n",
            "mp:  67%|██████▋   | 600/892 [00:11<00:05, 57.08it/s]\u001b[A\u001b[A\u001b[A\n",
            "\n",
            "\n",
            "mp:  70%|██████▉   | 620/892 [00:11<00:04, 56.17it/s]\u001b[A\u001b[A\u001b[A\n",
            "\n",
            "\n",
            "mp:  72%|███████▏  | 640/892 [00:11<00:04, 58.87it/s]\u001b[A\u001b[A\u001b[A\n",
            "\n",
            "\n",
            "mp:  74%|███████▍  | 660/892 [00:12<00:04, 56.31it/s]\u001b[A\u001b[A\u001b[A\n",
            "\n",
            "\n",
            "mp:  76%|███████▌  | 680/892 [00:12<00:03, 58.23it/s]\u001b[A\u001b[A\u001b[A\n",
            "\n",
            "\n",
            "mp:  78%|███████▊  | 700/892 [00:12<00:03, 60.50it/s]\u001b[A\u001b[A\u001b[A\n",
            "\n",
            "\n",
            "mp:  81%|████████  | 720/892 [00:12<00:02, 62.29it/s]\u001b[A\u001b[A\u001b[A\n",
            "\n",
            "\n",
            "mp:  83%|████████▎ | 740/892 [00:13<00:02, 59.05it/s]\u001b[A\u001b[A\u001b[A\n",
            "\n",
            "\n",
            "mp:  85%|████████▌ | 760/892 [00:13<00:02, 55.66it/s]\u001b[A\u001b[A\u001b[A\n",
            "\n",
            "\n",
            "mp:  87%|████████▋ | 780/892 [00:14<00:01, 59.02it/s]\u001b[A\u001b[A\u001b[A\n",
            "\n",
            "\n",
            "mp:  90%|████████▉ | 800/892 [00:14<00:01, 61.37it/s]\u001b[A\u001b[A\u001b[A\n",
            "\n",
            "\n",
            "mp:  92%|█████████▏| 820/892 [00:14<00:01, 53.02it/s]\u001b[A\u001b[A\u001b[A\n",
            "\n",
            "\n",
            "mp:  94%|█████████▍| 840/892 [00:15<00:00, 59.87it/s]\u001b[A\u001b[A\u001b[A\n",
            "\n",
            "\n",
            "mp:  96%|█████████▋| 860/892 [00:15<00:00, 61.36it/s]\u001b[A\u001b[A\u001b[A\n",
            "\n",
            "\n",
            "mp:  99%|█████████▊| 880/892 [00:15<00:00, 62.68it/s]\u001b[A\u001b[A\u001b[A\n",
            "\n",
            "\n",
            "mcloud.threedd: 100%|██████████| 87/87 [00:02<00:00, 32.31it/s]"
          ]
        }
      ],
      "source": [
        "results = opt.get_structures(elements=[\"N\"], nelements=2)"
      ]
    },
    {
      "cell_type": "markdown",
      "metadata": {
        "id": "ReyWVPsWB3Kr"
      },
      "source": [
        "We see that the `OptimadeRester` does some of the hard work for us: it automatically retrieves multiple pages of results when many results are available, and also gives us a progress bar.\n",
        "\n",
        "Let us inspect the `results`:"
      ]
    },
    {
      "cell_type": "code",
      "execution_count": 113,
      "metadata": {
        "colab": {
          "base_uri": "https://localhost:8080/"
        },
        "id": "pgt2xFziCKmQ",
        "outputId": "18cf5db3-e6a4-47fb-fea0-e8be1b31cebc"
      },
      "outputs": [
        {
          "data": {
            "text/plain": [
              "dict"
            ]
          },
          "execution_count": 113,
          "metadata": {},
          "output_type": "execute_result"
        }
      ],
      "source": [
        "type(results)  # this method returns a dictionary, so let's examine the keys of this dictionary..."
      ]
    },
    {
      "cell_type": "code",
      "execution_count": 114,
      "metadata": {
        "colab": {
          "base_uri": "https://localhost:8080/"
        },
        "id": "TWpcjldECY3V",
        "outputId": "884967ed-4463-46f4-c762-da898631ae85"
      },
      "outputs": [
        {
          "data": {
            "text/plain": [
              "dict_keys(['mp', 'mcloud.threedd'])"
            ]
          },
          "execution_count": 114,
          "metadata": {},
          "output_type": "execute_result"
        }
      ],
      "source": [
        "results.keys()  # we see that the results dictionary is keyed by provider/alias"
      ]
    },
    {
      "cell_type": "code",
      "execution_count": 115,
      "metadata": {
        "colab": {
          "base_uri": "https://localhost:8080/"
        },
        "id": "p-gIUNm4Cdho",
        "outputId": "d08bf60a-811f-434a-cee6-1161d4d36982"
      },
      "outputs": [
        {
          "data": {
            "text/plain": [
              "dict_keys(['mp-1008610', 'mp-1019271', 'mp-1065394', 'mp-7790', 'mp-1015582', 'mp-1104441', 'mp-1019272', 'mp-1102235', 'mp-29973', 'mp-2245', 'mp-1014303', 'mp-1007824', 'mp-1245326', 'mp-973935', 'mp-834', 'mp-1018160', 'mp-1014298', 'mp-1214623', 'mp-1245013', 'mp-1244914', 'mp-27908', 'mp-32652', 'mp-1216472', 'mp-1014358', 'mp-1018733', 'mp-1009885', 'mp-1058019', 'mp-11660', 'mp-1209181', 'mp-510557', 'mp-1245132', 'mp-1009769', 'mvc-15478', 'mp-1865', 'mp-9981', 'mp-1077354', 'mp-10736', 'mp-1091417', 'mp-1245165', 'mp-1204550', 'mp-1245046', 'mp-661', 'mp-8101', 'mp-1001117', 'mp-2114', 'mp-1008833', 'mp-1008489', 'mp-1009483', 'mp-1188353', 'mp-1245244', 'mp-1077275', 'mp-1271276', 'mp-2828', 'mp-1078568', 'mp-1093992', 'mp-1213154', 'mp-2341', 'mvc-11235', 'mp-1014324', 'mp-1102114', 'mp-1244927', 'mp-634410', 'mp-567617', 'mp-1001826', 'mp-1002222', 'mp-1014995', 'mp-1072543', 'mp-1001916', 'mp-1064529', 'mp-754553', 'mp-1097011', 'mp-1096882', 'mp-1008921', 'mvc-13808', 'mp-1188721', 'mp-1933', 'mp-1097766', 'mp-754353', 'mp-986716', 'mp-1017550', 'mp-1096965', 'mp-1120744', 'mp-13480', 'mp-1180282', 'mp-1079947', 'mp-1212113', 'mp-1954', 'mp-510087', 'mp-27954', 'mp-999496', 'mp-476', 'mp-1018027', 'mp-1080201', 'mp-1096917', 'mp-1245010', 'mp-998899', 'mp-608071', 'mp-1014287', 'mp-1096962', 'mp-1218446', 'mp-1245263', 'mp-1009130', 'mp-1062817', 'mp-1220479', 'mp-251', 'mp-1018849', 'mp-1016048', 'mp-1079684', 'mp-1221793', 'mp-13175', 'mp-570604', 'mp-1009646', 'mp-1410', 'mp-973674', 'mp-1002207', 'mp-1188869', 'mp-1217167', 'mp-570471', 'mp-1060281', 'mp-1080202', 'mp-1179691', 'mp-2565', 'mp-504769', 'mvc-15427', 'mp-1047', 'mp-1096966', 'mp-1173453', 'mp-1019316', 'mp-1245258', 'mp-776470', 'mp-1077346', 'mp-1804', 'mp-2852', 'mp-637209', 'mp-1014264', 'mp-1014316', 'mp-1057758', 'mp-1208632', 'mvc-13729', 'mp-1016058', 'mp-1180215', 'mp-1180313', 'mp-804', 'mp-940', 'mp-984', 'mp-1097042', 'mp-1196421', 'mp-1245106', 'mp-530081', 'mp-1065265', 'mp-604884', 'mp-1008986', 'mp-1078389', 'mp-1015780', 'mp-754628', 'mp-1216464', 'mp-1940', 'mp-2131', 'mp-535', 'mvc-13927', 'mp-1180230', 'mp-1238814', 'mp-2599', 'mp-1014281', 'mp-1008826', 'mp-27488', 'mp-1244991', 'mp-570454', 'mp-779689', 'mp-684642', 'mp-1018734', 'mp-1014565', 'mp-1179882', 'mp-569461', 'mp-754556', 'mp-1009639', 'mp-1015065', 'mp-1096957', 'mp-1009640', 'mp-1077506', 'mp-510350', 'mp-973', 'mp-1017546', 'mp-10564', 'mp-2634', 'mp-568172', 'mp-1017532', 'mp-1013529', 'mp-1187906', 'mp-1200511', 'mp-1195863', 'mp-1271281', 'mp-13146', 'mp-685145', 'mp-1001844', 'mp-1209103', 'mp-1014379', 'mp-1102941', 'mp-1018852', 'mp-1056900', 'mp-1079760', 'mp-11607', 'mp-1193580', 'mp-1015026', 'mp-1097039', 'mp-13098', 'mp-1009649', 'mp-1096909', 'mp-8282', 'mp-1061865', 'mp-1580', 'mp-36891', 'mp-1180345', 'mp-616407', 'mp-883', 'mp-1080197', 'mp-1246153', 'mp-754629', 'mp-1008965', 'mp-1245175', 'mp-13117', 'mp-32590', 'mp-1008820', 'mp-1207010', 'mvc-13455', 'mp-1002229', 'mp-1009720', 'mp-1080242', 'mp-1080623', 'mp-1208477', 'mp-248', 'mp-2789', 'mp-6988', 'mp-971694', 'mp-1079585', 'mp-1204171', 'mp-1245228', 'mp-1096911', 'mp-1101174', 'mp-1181864', 'mp-570538', 'mp-999264', 'mp-1009596', 'mp-1184048', 'mp-1019052', 'mp-1069841', 'mp-1244984', 'mp-1244972', 'mp-32913', 'mp-1009734', 'mp-1222421', 'mp-607371', 'mp-1067139', 'mp-1245229', 'mp-676', 'mp-864647', 'mp-1066400', 'mp-1096924', 'mp-1225746', 'mp-925', 'mp-1014454', 'mp-1078828', 'mp-1105655', 'mp-755988', 'mp-1014214', 'mp-1080193', 'mp-1220310', 'mp-684592', 'mp-754434', 'mp-1009767', 'mp-1245130', 'mp-1244934', 'mp-569957', 'mp-1062345', 'mp-6933', 'mp-870', 'mp-999263', 'mp-1072167', 'mp-1080198', 'mp-1096961', 'mp-1245281', 'mp-999195', 'mp-1203253', 'mp-1205002', 'mp-1245322', 'mp-1078816', 'mp-999266', 'mp-1018948', 'mp-1104403', 'mp-1639', 'mp-581833', 'mp-1599', 'mp-1080203', 'mp-1220830', 'mp-20812', 'mp-504768', 'mp-601223', 'mp-8102', 'mp-1066162', 'mp-2033', 'mp-1208406', 'mp-2596', 'mp-999485', 'mp-1101901', 'mp-1193871', 'mp-18337', 'mp-999469', 'mp-1009219', 'mp-1009015', 'mp-1096918', 'mp-1201150', 'mp-1014478', 'mp-1018655', 'mp-999296', 'mp-1102429', 'mp-583712', 'mp-1018049', 'mp-1014345', 'mp-1077096', 'mp-1184774', 'mp-684692', 'mvc-13841', 'mp-1078791', 'mp-1719', 'mp-1002197', 'mp-637576', 'mp-999294', 'mp-2117', 'mp-567885', 'mp-571653', 'mp-1198545', 'mp-1009836', 'mp-1015612', 'mp-1244872', 'mp-973933', 'mp-980941', 'mp-22631', 'mp-6913', 'mp-999517', 'mp-2653', 'mp-1096890', 'mp-1014509', 'mp-1019239', 'mp-1180334', 'mp-1187056', 'mp-1189035', 'mp-1224501', 'mp-555136', 'mp-1002181', 'mp-1002182', 'mp-1014311', 'mp-1019086', 'mp-1104513', 'mp-12981', 'mp-1064647', 'mp-1097032', 'mp-1244946', 'mp-673635', 'mp-2701', 'mp-1018157', 'mp-1014347', 'mp-1014296', 'mp-1058586', 'mp-1180473', 'mp-1019083', 'mp-1079812', 'mp-1190322', 'mp-685209', 'mp-1225831', 'mp-1096899', 'mp-1078576', 'mp-1080172', 'mp-1096913', 'mp-1096900', 'mp-13173', 'mp-568293', 'mp-1180500', 'mp-569167', 'mp-972036', 'mp-1016073', 'mp-1212961', 'mp-1707', 'mp-1001834', 'mp-1330', 'mp-684887', 'mp-1008823', 'mp-1064119', 'mp-1066707', 'mp-1080199', 'mp-1009601', 'mp-1014342', 'mp-1014339', 'mp-1211954', 'mp-343', 'mp-672264', 'mp-1009078', 'mp-1077299', 'mp-1096893', 'mp-1188048', 'mp-982734', 'mp-1097757', 'mp-1180757', 'mp-1419', 'mp-1975', 'mp-998908', 'mp-1009237', 'mp-1096888', 'mp-1173647', 'mp-1183691', 'mp-33090', 'mp-641541', 'mp-1016069', 'mp-1202811', 'mp-1219567', 'mp-13035', 'mp-2118', 'mp-1009694', 'mp-563', 'mp-1009833', 'mp-1096935', 'mp-1244866', 'mp-1225758', 'mp-1096968', 'mp-1220726', 'mp-13099', 'mp-1776', 'mp-534', 'mp-1120742', 'mp-1190632', 'mp-1245149', 'mp-1244917', 'mp-20304', 'mp-680640', 'mp-1014332', 'mp-749', 'mp-1079708', 'mp-2493', 'mp-1195888', 'mp-1214748', 'mp-971684', 'mp-1014318', 'mp-1179538', 'mp-8046', 'mp-864918', 'mp-998903', 'mvc-11162', 'mvc-11231', 'mp-1014366', 'mp-1190039', 'mp-567290', 'mp-975606', 'mp-999357', 'mp-1009545', 'mp-1078609', 'mp-1096907', 'mp-40793', 'mp-620058', 'mp-1014910', 'mp-1019080', 'mp-1097803', 'mp-16031', 'mp-827', 'mp-1209413', 'mp-1245048', 'mp-1180438', 'mp-1245193', 'mp-1080190', 'mp-1245', 'mp-7927', 'mp-999495', 'mp-1057084', 'mp-1245002', 'mp-1206425', 'mp-1097059', 'mp-1245123', 'mp-685023', 'mp-1080194', 'mp-1192688', 'mp-641539', 'mp-999303', 'mp-1205065', 'mp-1245075', 'mp-13151', 'mp-754381', 'mp-1102', 'mp-22003', 'mp-999355', 'mp-1009548', 'mp-20340', 'mp-1642', 'mp-344', 'mp-651723', 'mp-11801', 'mp-1245172', 'mp-755880', 'mp-1014297', 'mp-1001', 'mp-1008600', 'mp-1014558', 'mp-1019077', 'mp-1095181', 'mp-1009657', 'mp-1245188', 'mp-1245295', 'mp-13148', 'mp-1194075', 'mp-998900', 'mp-1008918', 'mp-1096928', 'mp-1196867', 'mp-1245150', 'mp-2355', 'mvc-14553', 'mp-1096898', 'mp-1216242', 'mp-1245095', 'mp-13178', 'mp-13076', 'mp-2132', 'mp-1009831', 'mp-1007778', 'mp-1210764', 'mp-1096896', 'mp-1178600', 'mp-1218021', 'mp-13034', 'mp-15799', 'mp-988', 'mp-10196', 'mp-1058549', 'mp-1103129', 'mp-1182172', 'mp-1009766', 'mp-1096906', 'mp-1224686', 'mp-1019082', 'mp-467', 'mp-636839', 'mp-1008483', 'mp-1203301', 'mp-13132', 'mp-568867', 'mp-1019078', 'mp-1096914', 'mp-2659', 'mp-999197', 'mp-1058689', 'mp-1245301', 'mp-864675', 'mp-1244896', 'mp-2811', 'mp-567907', 'mp-6977', 'mp-1066', 'mp-1205986', 'mp-1245252', 'mp-1224383', 'mp-720515', 'mp-1009493', 'mp-1018947', 'mp-974435', 'mp-1014265', 'mp-1008798', 'mp-1064952', 'mp-1013524', 'mp-1009732', 'mp-1225203', 'mp-999117', 'mp-999292', 'mp-1096951', 'mp-568862', 'mp-1244916', 'mp-256', 'mp-1059612', 'mp-1080192', 'mp-1106142', 'mp-1185783', 'mp-20411', 'mp-985299', 'mp-1216967', 'mp-2251', 'mp-971657', 'mp-1016076', 'mp-1016071', 'mp-1097796', 'mp-7139', 'mp-981366', 'mp-991', 'mp-1009485', 'mp-34761', 'mp-643432', 'mp-1015076', 'mp-1173466', 'mp-1244943', 'mp-13150', 'mp-608366', 'mp-673174', 'mp-1096892', 'mp-1103420', 'mp-1245231', 'mp-1019319', 'mp-1245069', 'mp-1182484', 'mp-9460', 'mp-542738', 'mp-1059160', 'mp-1180220', 'mp-1057979', 'mp-1096919', 'mp-1103897', 'mp-1459', 'mp-1352', 'mp-1559', 'mp-235', 'mp-448', 'mp-1244977', 'mp-22777', 'mp-1009019', 'mp-1204579', 'mp-1216851', 'mp-1064161', 'mp-1245286', 'mp-21476', 'mp-1018142', 'mp-1019055', 'mp-1096889', 'mp-830', 'mp-1014286', 'mp-1096864', 'mp-1120827', 'mp-1700', 'mp-1221446', 'mp-29145', 'mp-1245233', 'mp-8780', 'mp-980940', 'mp-1203286', 'mp-570572', 'mp-1009005', 'mp-1009471', 'mp-1180808', 'mp-776343', 'mp-864757', 'mp-1077595', 'mp-1220519', 'mp-644751', 'mp-9410', 'mp-555', 'mp-1078219', 'mp-1244884', 'mp-571297', 'mp-685079', 'mp-1101173', 'mp-1102441', 'mp-999300', 'mp-1094090', 'mp-1097018', 'mp-22387', 'mp-685050', 'mp-1016078', 'mp-1245249', 'mp-999307', 'mp-1014373', 'mp-32584', 'mp-1095618', 'mp-32742', 'mp-415', 'mp-1056955', 'mp-1080032', 'mp-20839', 'mp-999293', 'mp-1066821', 'mp-1096908', 'mp-1245302', 'mp-1059879', 'mp-574424', 'mp-7234', 'mp-999473', 'mp-1009049', 'mp-1018716', 'mp-1203025', 'mp-236', 'mp-1009770', 'mp-1064706', 'mp-1198478', 'mp-1207164', 'mp-23922', 'mp-7991', 'mp-999317', 'mp-1105105', 'mp-1205447', 'mp-636056', 'mp-999086', 'mp-1244886', 'mp-27953', 'mp-542635', 'mvc-15387', 'mp-1016070', 'mp-1217984', 'mp-1009818', 'mp-1077232', 'mp-1080196', 'mp-1096886', 'mvc-13461', 'mp-569228', 'mp-971683', 'mp-1008929', 'mp-1009838', 'mp-1245148', 'mp-1245287', 'mp-684744', 'mvc-15664', 'mp-1013528', 'mp-1080200', 'mp-1206884', 'mp-1279', 'mp-2853', 'mp-973785', 'mp-1892', 'mp-1008987', 'mp-1009494', 'mp-1180208', 'mp-1244995', 'mp-1245181', 'mp-1014333', 'mp-1097738', 'mp-13174', 'mp-672289', 'mp-1018018', 'mp-1016081', 'mp-1147700', 'mp-1245030', 'mp-1071980', 'mp-1187591', 'mp-22205', 'mp-32994', 'mp-999503', 'mp-1009496', 'mp-1064272', 'mp-1096894', 'mp-1101868', 'mp-1014444', 'mp-1071531', 'mp-1080191', 'mp-1102074', 'mvc-15384', 'mp-27943', 'mp-2718', 'mp-1078930', 'mp-1244903', 'mp-569655', 'mp-971682', 'mp-1206907', 'mp-973835', 'mp-1188347', 'mp-1212209', 'mp-1007660', 'mp-1104073', 'mp-1008922', 'mp-1016063', 'mp-1067644', 'mp-1173210', 'mp-1103427', 'mp-1217048', 'mp-1008762', 'mp-1019238', 'mp-1070456', 'mvc-13303', 'mp-1008985', 'mp-1014160', 'mp-1002209', 'mp-866083', 'mp-1096901', 'mp-13116', 'mp-2075', 'mp-1096885', 'mp-1188944', 'mp-1224391', 'mp-674509', 'mp-2857', 'mp-31000', 'mp-1015567', 'mp-1014369', 'mp-1016059', 'mp-1071868', 'mp-13126', 'mp-999295', 'mp-1009488', 'mp-1096994', 'mp-1180489', 'mp-2639', 'mp-492', 'mp-1224698', 'mp-540572', 'mp-277', 'mp-743', 'mp-1017982', 'mp-1017533', 'mp-1096903', 'mp-1101178', 'mp-1079438', 'mp-1244975', 'mp-12857', 'mp-603694', 'mp-667338', 'mp-1072204', 'mp-1102371', 'mp-844', 'mp-1014993', 'mp-1200550', 'mp-1224388', 'mp-1771', 'mp-1008558', 'mp-1001828', 'mp-1015908', 'mp-1079251', 'mp-1096931', 'mp-12120', 'mp-1245297', 'mvc-13772', 'mp-1214163', 'mp-22762', 'mp-1096910', 'mp-1096912', 'mp-1245288', 'mp-21264', 'mp-1217441', 'mp-13036', 'mp-776321', 'mvc-11196', 'mp-1058151', 'mp-1101975', 'mp-1179622', 'mp-1220496', 'mp-27461', 'mp-13852', 'mp-2686', 'mp-1009750', 'mp-1188283', 'mp-33046', 'mp-971911', 'mp-1182030', 'mvc-14624', 'mp-1017987', 'mp-1080204', 'mp-1245014', 'mp-2247', 'mp-571281', 'mp-1180221', 'mp-1225892', 'mp-1008923', 'mp-1002117', 'mp-1018648', 'mp-557865', 'mp-1225717', 'mp-1245033', 'mp-505622', 'mp-1014365', 'mp-1188007', 'mp-1002105', 'mp-11661', 'mp-1221525', 'mp-1080195', 'mp-629015', 'mp-1009128', 'mp-1009495', 'mp-1094084', 'mp-1189239', 'mp-1008809', 'mp-1009221', 'mp-1059462', 'mp-999549', 'mp-1245138', 'mp-1985', 'mp-570155', 'mp-16730', 'mp-1497', 'mp-1063003', 'mp-1096922', 'mp-1100774', 'mp-1102681', 'mp-1244998', 'mp-1018851', 'mp-1064715', 'mp-1096934', 'mp-1226927', 'mp-19830', 'mp-1244870', 'mp-1205092', 'mp-866056', 'mp-1014460', 'mp-1219988'])"
            ]
          },
          "execution_count": 115,
          "metadata": {},
          "output_type": "execute_result"
        }
      ],
      "source": [
        "results['mp'].keys()  # and these are then keyed by that database's unique identifier"
      ]
    },
    {
      "cell_type": "markdown",
      "metadata": {
        "id": "-C0T49T0Cnwe"
      },
      "source": [
        "So let us inspect one structure as an example:"
      ]
    },
    {
      "cell_type": "code",
      "execution_count": 116,
      "metadata": {
        "colab": {
          "base_uri": "https://localhost:8080/"
        },
        "id": "WRxgOpFMCm9t",
        "outputId": "c1dee368-e7be-48c9-a711-7300bb3bf856"
      },
      "outputs": [
        {
          "name": "stdout",
          "output_type": "stream",
          "text": [
            "Full Formula (Ga2 N2)\n",
            "Reduced Formula: GaN\n",
            "abc   :   3.216290   3.216290   5.239962\n",
            "angles:  90.000000  90.000000 120.000003\n",
            "Sites (4)\n",
            "  #  SP           a         b        c\n",
            "---  ----  --------  --------  -------\n",
            "  0  Ga    0.666667  0.333333  0.49912\n",
            "  1  Ga    0.333333  0.666667  0.99912\n",
            "  2  N     0.666667  0.333333  0.87588\n",
            "  3  N     0.333333  0.666667  0.37588\n"
          ]
        }
      ],
      "source": [
        "example_structure = results['mp']['mp-804']\n",
        "print(example_structure)"
      ]
    },
    {
      "cell_type": "markdown",
      "metadata": {
        "id": "vd9QJinuDEi7"
      },
      "source": [
        "We can then use *pymatgen* to further manipulate these `Structure` objects, for example to calculate the spacegroup or to convert to a CIF:"
      ]
    },
    {
      "cell_type": "code",
      "execution_count": 117,
      "metadata": {
        "colab": {
          "base_uri": "https://localhost:8080/"
        },
        "id": "cQnh2J6PClsU",
        "outputId": "c8cdc6f9-00a4-4e5d-f73f-4dd86e72fbee"
      },
      "outputs": [
        {
          "data": {
            "text/plain": [
              "('P6_3mc', 186)"
            ]
          },
          "execution_count": 117,
          "metadata": {},
          "output_type": "execute_result"
        }
      ],
      "source": [
        "example_structure.get_space_group_info()"
      ]
    },
    {
      "cell_type": "code",
      "execution_count": 118,
      "metadata": {
        "colab": {
          "base_uri": "https://localhost:8080/"
        },
        "id": "DdkFGoLu78yn",
        "outputId": "1e750eba-f180-40ba-d022-ff37429109e3"
      },
      "outputs": [
        {
          "name": "stdout",
          "output_type": "stream",
          "text": [
            "# generated using pymatgen\n",
            "data_GaN\n",
            "_symmetry_space_group_name_H-M   P6_3mc\n",
            "_cell_length_a   3.21629007\n",
            "_cell_length_b   3.21629007\n",
            "_cell_length_c   5.23996200\n",
            "_cell_angle_alpha   90.00000000\n",
            "_cell_angle_beta   90.00000000\n",
            "_cell_angle_gamma   120.00000000\n",
            "_symmetry_Int_Tables_number   186\n",
            "_chemical_formula_structural   GaN\n",
            "_chemical_formula_sum   'Ga2 N2'\n",
            "_cell_volume   46.94282137\n",
            "_cell_formula_units_Z   2\n",
            "loop_\n",
            " _symmetry_equiv_pos_site_id\n",
            " _symmetry_equiv_pos_as_xyz\n",
            "  1  'x, y, z'\n",
            "  2  'x-y, x, z+1/2'\n",
            "  3  '-y, x-y, z'\n",
            "  4  '-x, -y, z+1/2'\n",
            "  5  '-x+y, -x, z'\n",
            "  6  'y, -x+y, z+1/2'\n",
            "  7  'y, x, z+1/2'\n",
            "  8  'x, x-y, z'\n",
            "  9  'x-y, -y, z+1/2'\n",
            "  10  '-y, -x, z'\n",
            "  11  '-x, -x+y, z+1/2'\n",
            "  12  '-x+y, y, z'\n",
            "loop_\n",
            " _atom_site_type_symbol\n",
            " _atom_site_label\n",
            " _atom_site_symmetry_multiplicity\n",
            " _atom_site_fract_x\n",
            " _atom_site_fract_y\n",
            " _atom_site_fract_z\n",
            " _atom_site_occupancy\n",
            "  Ga  Ga0  2  0.33333333  0.66666667  0.99912000  1\n",
            "  N  N1  2  0.33333333  0.66666667  0.37588000  1\n",
            "\n"
          ]
        }
      ],
      "source": [
        "print(example_structure.to(fmt=\"cif\", symprec=0.01))"
      ]
    },
    {
      "cell_type": "markdown",
      "metadata": {
        "id": "Pfy4pz7KDYRT"
      },
      "source": [
        "# Data analysis"
      ]
    },
    {
      "cell_type": "markdown",
      "metadata": {
        "id": "kK-3QNMIE7h7"
      },
      "source": [
        "This section I will use some code I prepared earlier to summarize the `results` into a tabular format (`DataFrame`)."
      ]
    },
    {
      "cell_type": "code",
      "execution_count": 119,
      "metadata": {
        "id": "1ox0FPvvE-Id"
      },
      "outputs": [],
      "source": [
        "import pandas as pd"
      ]
    },
    {
      "cell_type": "code",
      "execution_count": 120,
      "metadata": {
        "id": "QIzNLNQVFGA4"
      },
      "outputs": [],
      "source": [
        "records = []\n",
        "for provider, structures in results.items():\n",
        "    for identifier, structure in structures.items():\n",
        "        records.append({\n",
        "            \"provider\": provider,\n",
        "            \"identifier\": identifier,\n",
        "            \"formula\": structure.composition.reduced_formula,\n",
        "            \"spacegroup\": structure.get_space_group_info()[0],\n",
        "            \"a_lattice_param\": structure.lattice.a,\n",
        "            \"volume\": structure.volume,\n",
        "        })\n",
        "df = pd.DataFrame(records)"
      ]
    },
    {
      "cell_type": "code",
      "execution_count": 121,
      "metadata": {
        "colab": {
          "base_uri": "https://localhost:8080/",
          "height": 419
        },
        "id": "OZIeQr6xFi8D",
        "outputId": "d5f7010d-0970-4507-df37-c2f6645ac9e0"
      },
      "outputs": [
        {
          "data": {
            "text/html": [
              "<div>\n",
              "<style scoped>\n",
              "    .dataframe tbody tr th:only-of-type {\n",
              "        vertical-align: middle;\n",
              "    }\n",
              "\n",
              "    .dataframe tbody tr th {\n",
              "        vertical-align: top;\n",
              "    }\n",
              "\n",
              "    .dataframe thead th {\n",
              "        text-align: right;\n",
              "    }\n",
              "</style>\n",
              "<table border=\"1\" class=\"dataframe\">\n",
              "  <thead>\n",
              "    <tr style=\"text-align: right;\">\n",
              "      <th></th>\n",
              "      <th>provider</th>\n",
              "      <th>identifier</th>\n",
              "      <th>formula</th>\n",
              "      <th>spacegroup</th>\n",
              "      <th>a_lattice_param</th>\n",
              "      <th>volume</th>\n",
              "    </tr>\n",
              "  </thead>\n",
              "  <tbody>\n",
              "    <tr>\n",
              "      <th>0</th>\n",
              "      <td>mp</td>\n",
              "      <td>mp-1008610</td>\n",
              "      <td>AuN</td>\n",
              "      <td>Fm-3m</td>\n",
              "      <td>3.302053</td>\n",
              "      <td>25.458750</td>\n",
              "    </tr>\n",
              "    <tr>\n",
              "      <th>1</th>\n",
              "      <td>mp</td>\n",
              "      <td>mp-1019271</td>\n",
              "      <td>TaN2</td>\n",
              "      <td>P6/mmm</td>\n",
              "      <td>5.459583</td>\n",
              "      <td>72.277001</td>\n",
              "    </tr>\n",
              "    <tr>\n",
              "      <th>2</th>\n",
              "      <td>mp</td>\n",
              "      <td>mp-1065394</td>\n",
              "      <td>MoN</td>\n",
              "      <td>P6_3/mmc</td>\n",
              "      <td>2.870508</td>\n",
              "      <td>40.722201</td>\n",
              "    </tr>\n",
              "    <tr>\n",
              "      <th>3</th>\n",
              "      <td>mp</td>\n",
              "      <td>mp-7790</td>\n",
              "      <td>Ti2N</td>\n",
              "      <td>I4_1/amd</td>\n",
              "      <td>5.322762</td>\n",
              "      <td>76.524076</td>\n",
              "    </tr>\n",
              "    <tr>\n",
              "      <th>4</th>\n",
              "      <td>mp</td>\n",
              "      <td>mp-1015582</td>\n",
              "      <td>CrN2</td>\n",
              "      <td>Pbcn</td>\n",
              "      <td>4.405213</td>\n",
              "      <td>118.349470</td>\n",
              "    </tr>\n",
              "    <tr>\n",
              "      <th>...</th>\n",
              "      <td>...</td>\n",
              "      <td>...</td>\n",
              "      <td>...</td>\n",
              "      <td>...</td>\n",
              "      <td>...</td>\n",
              "      <td>...</td>\n",
              "    </tr>\n",
              "    <tr>\n",
              "      <th>974</th>\n",
              "      <td>mcloud.threedd</td>\n",
              "      <td>25786</td>\n",
              "      <td>N2O</td>\n",
              "      <td>Pa-3</td>\n",
              "      <td>5.842646</td>\n",
              "      <td>199.447562</td>\n",
              "    </tr>\n",
              "    <tr>\n",
              "      <th>975</th>\n",
              "      <td>mcloud.threedd</td>\n",
              "      <td>26371</td>\n",
              "      <td>SbN9</td>\n",
              "      <td>P-1</td>\n",
              "      <td>7.350390</td>\n",
              "      <td>322.370944</td>\n",
              "    </tr>\n",
              "    <tr>\n",
              "      <th>976</th>\n",
              "      <td>mcloud.threedd</td>\n",
              "      <td>26467</td>\n",
              "      <td>SmN</td>\n",
              "      <td>Fm-3m</td>\n",
              "      <td>3.559131</td>\n",
              "      <td>31.879910</td>\n",
              "    </tr>\n",
              "    <tr>\n",
              "      <th>977</th>\n",
              "      <td>mcloud.threedd</td>\n",
              "      <td>26627</td>\n",
              "      <td>CsN</td>\n",
              "      <td>Pm-3m</td>\n",
              "      <td>3.821708</td>\n",
              "      <td>55.817766</td>\n",
              "    </tr>\n",
              "    <tr>\n",
              "      <th>978</th>\n",
              "      <td>mcloud.threedd</td>\n",
              "      <td>26808</td>\n",
              "      <td>GdN</td>\n",
              "      <td>Fm-3m</td>\n",
              "      <td>3.527077</td>\n",
              "      <td>31.026289</td>\n",
              "    </tr>\n",
              "  </tbody>\n",
              "</table>\n",
              "<p>979 rows × 6 columns</p>\n",
              "</div>"
            ],
            "text/plain": [
              "           provider  identifier formula spacegroup  a_lattice_param      volume\n",
              "0                mp  mp-1008610     AuN      Fm-3m         3.302053   25.458750\n",
              "1                mp  mp-1019271    TaN2     P6/mmm         5.459583   72.277001\n",
              "2                mp  mp-1065394     MoN   P6_3/mmc         2.870508   40.722201\n",
              "3                mp     mp-7790    Ti2N   I4_1/amd         5.322762   76.524076\n",
              "4                mp  mp-1015582    CrN2       Pbcn         4.405213  118.349470\n",
              "..              ...         ...     ...        ...              ...         ...\n",
              "974  mcloud.threedd       25786     N2O       Pa-3         5.842646  199.447562\n",
              "975  mcloud.threedd       26371    SbN9        P-1         7.350390  322.370944\n",
              "976  mcloud.threedd       26467     SmN      Fm-3m         3.559131   31.879910\n",
              "977  mcloud.threedd       26627     CsN      Pm-3m         3.821708   55.817766\n",
              "978  mcloud.threedd       26808     GdN      Fm-3m         3.527077   31.026289\n",
              "\n",
              "[979 rows x 6 columns]"
            ]
          },
          "execution_count": 121,
          "metadata": {},
          "output_type": "execute_result"
        }
      ],
      "source": [
        "df"
      ]
    },
    {
      "cell_type": "markdown",
      "metadata": {
        "id": "A-ue234PHJxs"
      },
      "source": [
        "To pick one specific formula as an example, we can use tools from `pandas` to show the spacegroups present for that formula:"
      ]
    },
    {
      "cell_type": "code",
      "execution_count": 122,
      "metadata": {
        "colab": {
          "base_uri": "https://localhost:8080/"
        },
        "id": "p5cge1ulFkqX",
        "outputId": "e503d0e9-dc48-48e1-f630-1777940b19f3"
      },
      "outputs": [
        {
          "data": {
            "text/plain": [
              "11     P6_3/mmc\n",
              "12           P1\n",
              "18           P1\n",
              "30           P1\n",
              "38           P1\n",
              "40           P1\n",
              "49           P1\n",
              "60           P1\n",
              "128          P1\n",
              "142      P6_3mc\n",
              "147          P1\n",
              "239      P6_3mc\n",
              "246          P1\n",
              "270          P1\n",
              "271          P1\n",
              "420          P1\n",
              "471          P1\n",
              "481          P1\n",
              "493          P1\n",
              "502          P1\n",
              "503          P1\n",
              "510          P1\n",
              "515          P1\n",
              "549          P1\n",
              "571          P1\n",
              "601          P1\n",
              "621          P1\n",
              "626       F-43m\n",
              "633          P1\n",
              "649          P1\n",
              "673          P1\n",
              "693          P1\n",
              "708          P1\n",
              "716       Fm-3m\n",
              "722          P1\n",
              "723          P1\n",
              "731          P1\n",
              "749          P1\n",
              "801          P1\n",
              "824          P1\n",
              "855          P1\n",
              "872          P1\n",
              "881          P1\n",
              "969      P6_3mc\n",
              "Name: spacegroup, dtype: object"
            ]
          },
          "execution_count": 122,
          "metadata": {},
          "output_type": "execute_result"
        }
      ],
      "source": [
        "df[df[\"formula\"] == \"GaN\"].spacegroup"
      ]
    },
    {
      "cell_type": "markdown",
      "metadata": {
        "id": "Vd_P1qlNHWfx"
      },
      "source": [
        "Here, we see that there are a few common high-symmetry spacegroups (such as $P6_3mc$) there are also many low-symmetry structures ($P1$).\n",
        "\n",
        "I know that in this instance, this is because the $P1$ structures are actually amorphous and not crystalline. This highlights the importance of doing appropraiate **data cleaning** on retrieved data."
      ]
    },
    {
      "cell_type": "markdown",
      "metadata": {
        "id": "e2LAxE7kJvXJ"
      },
      "source": [
        "### Plotting data\n",
        "\n",
        "As a quick example, we can also plot information in our table:"
      ]
    },
    {
      "cell_type": "code",
      "execution_count": 123,
      "metadata": {
        "id": "6oeo_5YEI4qg"
      },
      "outputs": [],
      "source": [
        "import plotly.express as px"
      ]
    },
    {
      "cell_type": "code",
      "execution_count": 124,
      "metadata": {
        "colab": {
          "base_uri": "https://localhost:8080/",
          "height": 542
        },
        "id": "Gddx0gRdI6bd",
        "outputId": "676da693-e222-413d-804f-7731d40e35f7"
      },
      "outputs": [
        {
          "data": {
            "text/html": [
              "<html>\n",
              "<head><meta charset=\"utf-8\" /></head>\n",
              "<body>\n",
              "    <div>            <script src=\"https://cdnjs.cloudflare.com/ajax/libs/mathjax/2.7.5/MathJax.js?config=TeX-AMS-MML_SVG\"></script><script type=\"text/javascript\">if (window.MathJax) {MathJax.Hub.Config({SVG: {font: \"STIX-Web\"}});}</script>                <script type=\"text/javascript\">window.PlotlyConfig = {MathJaxConfig: 'local'};</script>\n",
              "        <script src=\"https://cdn.plot.ly/plotly-2.4.2.min.js\"></script>                <div id=\"a12b656a-4ddc-4b53-bd4d-4dbcc6f61374\" class=\"plotly-graph-div\" style=\"height:525px; width:100%;\"></div>            <script type=\"text/javascript\">                                    window.PLOTLYENV=window.PLOTLYENV || {};                                    if (document.getElementById(\"a12b656a-4ddc-4b53-bd4d-4dbcc6f61374\")) {                    Plotly.newPlot(                        \"a12b656a-4ddc-4b53-bd4d-4dbcc6f61374\",                        [{\"alignmentgroup\":\"True\",\"hovertemplate\":\"provider=mp<br>spacegroup=%{x}<br>count=%{y}<extra></extra>\",\"legendgroup\":\"\",\"marker\":{\"color\":\"#636efa\",\"pattern\":{\"shape\":\"\"}},\"name\":\"\",\"offsetgroup\":\"\",\"orientation\":\"v\",\"showlegend\":false,\"textposition\":\"auto\",\"type\":\"bar\",\"x\":[\"Fm-3m\",\"P6/mmm\",\"P6_3/mmc\",\"I4_1/amd\",\"Pbcn\",\"P4/mbm\",\"P6_3/mmc\",\"Pa-3\",\"C2/m\",\"P31c\",\"I4/mmm\",\"P6_3/mmc\",\"P1\",\"P6/mmm\",\"Fm-3m\",\"Fm-3m\",\"Cmmm\",\"Ia-3\",\"P1\",\"P1\",\"P-31m\",\"P4/mmm\",\"R-3m\",\"Pnma\",\"P6_3/mmc\",\"F-43m\",\"Fm-3m\",\"I-43d\",\"Fm-3m\",\"I4/mcm\",\"P1\",\"Fm-3m\",\"Ama2\",\"Fm-3m\",\"Pbcn\",\"C2/m\",\"P6_3/mcm\",\"Cmce\",\"P1\",\"Pnma\",\"P1\",\"P6_3mc\",\"R-3m\",\"C2/m\",\"Fm-3m\",\"Fm-3m\",\"Pm-3m\",\"Pm-3m\",\"Pnma\",\"P1\",\"Pm\",\"Pca2_1\",\"Fm-3m\",\"R-3c\",\"P6_3/mmc\",\"I4_1/a\",\"P6_3/mmc\",\"Pm-3m\",\"Imma\",\"Pa-3\",\"P1\",\"C2\",\"P2_1/c\",\"F-43m\",\"Fm-3m\",\"R-3m\",\"I4/mmm\",\"F-43m\",\"Pmmn\",\"Pnma\",\"I4/mcm\",\"R-3c\",\"F-43m\",\"Pm\",\"Pna2_1\",\"Pm-3m\",\"P4_12_12\",\"R-3m\",\"Ia-3\",\"P-3m1\",\"C2/c\",\"Pmn2_1\",\"Pm-3m\",\"P2_12_12_1\",\"Pm-3n\",\"P4/nmm\",\"Imm2\",\"Pnnm\",\"I4_1/amd\",\"P6/mmm\",\"Fd-3m\",\"P-6m2\",\"Pnma\",\"Pbcn\",\"P1\",\"P-6m2\",\"I2_13\",\"P4/mmm\",\"Immm\",\"C2/m\",\"P1\",\"F-43m\",\"Fm-3m\",\"P4/mmm\",\"Fm-3m\",\"Pm-3m\",\"P2_1/m\",\"C2/c\",\"P-3m1\",\"Fm-3m\",\"P6_3/mmc\",\"P-6m2\",\"Fm-3m\",\"P6_3mc\",\"Pm-3m\",\"Pnma\",\"I4/mmm\",\"Pbca\",\"I4/mmm\",\"Pnnm\",\"Immm\",\"P4_2nm\",\"P6_3/mmc\",\"C2/m\",\"R-3c\",\"C2/m\",\"P2_1\",\"P6_3/mmc\",\"P1\",\"Pnma\",\"Fd-3m\",\"P6_322\",\"I-43d\",\"P2_1/c\",\"Fm-3m\",\"Pm-3m\",\"Fm-3m\",\"Pnma\",\"P1\",\"Ima2\",\"P3_121\",\"P2_12_12_1\",\"P6_3mc\",\"Fm-3m\",\"P6_3/mmc\",\"Cc\",\"Pnma\",\"P1\",\"Cc\",\"C2/m\",\"P-6m2\",\"Fm-3m\",\"P6_3/mmc\",\"Fd-3m\",\"Pna2_1\",\"I4/mmm\",\"P-3m1\",\"Fddd\",\"Pm-3m\",\"Cm\",\"Pnma\",\"P-43m\",\"Fm-3m\",\"Cmmm\",\"Fm-3m\",\"Cmcm\",\"P1\",\"P6/mmm\",\"P2_13\",\"P2_1\",\"Pm-3m\",\"Cmcm\",\"Fddd\",\"Pca2_1\",\"Cmcm\",\"F-43m\",\"P31c\",\"P2_12_12_1\",\"Pm-3m\",\"Imm2\",\"R-3\",\"P-3m1\",\"P6_3/mmc\",\"I4/mmm\",\"P-6m2\",\"C2/m\",\"P6_3/mmc\",\"Pm-3m\",\"Pm-3m\",\"Ia-3\",\"P3_221\",\"Cmcm\",\"P-3m1\",\"Fmm2\",\"Pm-3m\",\"Pm-3m\",\"Fd-3m\",\"P2_12_12_1\",\"P4/mbm\",\"Pm-3m\",\"P6_322\",\"I-43d\",\"P-6m2\",\"Cc\",\"Pnnm\",\"Pm-3m\",\"P-6m2\",\"C2/c\",\"P4_2/mnm\",\"Fm-3m\",\"Fm-3m\",\"Fm-3m\",\"Pna2_1\",\"P2_12_12_1\",\"Fm-3m\",\"P6_3/m\",\"P6_3/mmc\",\"P3_121\",\"P-6m2\",\"P1\",\"F-43m\",\"I4cm\",\"Fm-3m\",\"Fd-3m\",\"C2/m\",\"Pm-3m\",\"Fm-3m\",\"R3m\",\"Cmc2_1\",\"Cmmm\",\"P-31m\",\"Im-3\",\"F-43m\",\"Pm-3m\",\"P-31m\",\"Ia-3\",\"P1\",\"C2/m\",\"I4_1/amd\",\"P6_3mc\",\"C2/m\",\"P4_2/mmc\",\"Pm-3m\",\"P4_2/mnm\",\"Pm-3m\",\"P-3m1\",\"P1\",\"P1\",\"Immm\",\"F-43m\",\"P-4m2\",\"Pnnm\",\"R-3m\",\"P1\",\"Fddd\",\"P4_2/mnm\",\"R3m\",\"Fmmm\",\"P-3m1\",\"Fm-3m\",\"P-3m1\",\"Cmc2_1\",\"Pm-3m\",\"Fd-3m\",\"Pm-3m\",\"P4/mbm\",\"Cm\",\"P-1\",\"R-3m\",\"P-6m2\",\"P1\",\"P1\",\"Ia-3\",\"Fm-3m\",\"Fm-3m\",\"I4/mcm\",\"P6_3/mmc\",\"I4_1/amd\",\"Pmmn\",\"C2/m\",\"P1\",\"P6_3/mmc\",\"Pnma\",\"Pnma\",\"P1\",\"P2_1/c\",\"P6_3/mmc\",\"P6_3/mmc\",\"P-6m2\",\"F-43m\",\"P4/mmm\",\"Cm\",\"C2/m\",\"C2/m\",\"Fm-3m\",\"I4_1/a\",\"P6_3/mmc\",\"Pm-3m\",\"P6_3/mmc\",\"P6_322\",\"Pnma\",\"Fm-3m\",\"F-43m\",\"Pbcm\",\"Iba2\",\"Ia-3\",\"Pm-3m\",\"P-6m2\",\"P-6m2\",\"P2_1/c\",\"Ia-3\",\"Ibam\",\"P-3m1\",\"Fm-3m\",\"Pa-3\",\"P6_3/m\",\"P4/nmm\",\"P6_3/m\",\"Cmmm\",\"P6_3mc\",\"P-1\",\"Ama2\",\"Cmc2_1\",\"Fm-3m\",\"P-6m2\",\"Pm-3m\",\"Pm-3m\",\"Fm-3m\",\"P-6m2\",\"P-43m\",\"Pnma\",\"Pm-3m\",\"P6_222\",\"P1\",\"P6_3mc\",\"Pm-3m\",\"Pnnm\",\"P6_3/mmc\",\"P6_3mc\",\"P6_3mc\",\"C2\",\"P321\",\"Immm\",\"P2_12_12_1\",\"P6_3/mmc\",\"Pnma\",\"P-1\",\"Pbcn\",\"F-43m\",\"Fm-3m\",\"Fm-3m\",\"P-42_1m\",\"P222\",\"Pm-3m\",\"Pmmn\",\"P4_2/mmc\",\"P1\",\"P312\",\"P6_3/mmc\",\"F-43m\",\"I-43d\",\"Cmcm\",\"Fm-3m\",\"Pnma\",\"P6_3/mmc\",\"I4/mmm\",\"C2/c\",\"P-3m1\",\"P-3m1\",\"P1\",\"P4/mmm\",\"I4/mcm\",\"Pna2_1\",\"P1\",\"P6_3/mmc\",\"Pbcn\",\"P2_1/c\",\"I4/mmm\",\"P6_3mc\",\"P6_3/mmc\",\"Fd-3m\",\"P2_1/m\",\"Pm-3m\",\"Fm-3m\",\"C2/c\",\"Amm2\",\"P4/nmm\",\"Pmmn\",\"P6_3/m\",\"P-6m2\",\"Ama2\",\"P4_32_12\",\"Im-3\",\"Fm-3m\",\"P-3\",\"Fm-3m\",\"Cm\",\"P-1\",\"I4/mmm\",\"P4_2/mnm\",\"P4_12_12\",\"Cmc2_1\",\"C2/c\",\"Fm-3m\",\"F-43m\",\"Pm-3m\",\"C2\",\"C2/m\",\"P-6m2\",\"P-31m\",\"Pnma\",\"P1\",\"Ia-3\",\"Amm2\",\"Pm-3m\",\"Im-3\",\"Fm-3m\",\"Fd-3m\",\"F-43m\",\"C2/c\",\"P1\",\"Immm\",\"Cmcm\",\"P-3m1\",\"F-43m\",\"Fm-3m\",\"R-3m\",\"Pmn2_1\",\"P6_3cm\",\"P1\",\"P1\",\"Pnnm\",\"P4_2/mnm\",\"P4/mmm\",\"Fm-3m\",\"Pmmn\",\"Fm-3m\",\"Pnma\",\"Pbca\",\"Cmcm\",\"Ia-3\",\"C2/m\",\"I4/m\",\"P4_2/mnm\",\"Pm-3m\",\"P4_2/mmc\",\"Pm-3m\",\"P4_2/mnm\",\"Pnma\",\"P6_3mc\",\"Pm-3m\",\"P6_3/mmc\",\"Fm-3m\",\"Pnma\",\"C2/c\",\"P6_3/mmc\",\"Pna2_1\",\"I2_12_12_1\",\"Pc\",\"P321\",\"Fd-3m\",\"I4/mcm\",\"Pbca\",\"P1\",\"P2_12_12_1\",\"P1\",\"P31c\",\"R-3m\",\"I4/m\",\"Fm-3m\",\"Fm-3m\",\"P1\",\"Pm-3m\",\"C2/m\",\"P1\",\"P1\",\"Imm2\",\"P2_1/c\",\"Pnma\",\"P6_3/mmc\",\"Ia-3\",\"P1\",\"P4_2/mnm\",\"Fd-3m\",\"Fm-3m\",\"R-3m\",\"P6_3mc\",\"Fm-3m\",\"Fm-3m\",\"P6_3/mcm\",\"Cc\",\"R3c\",\"P6_3/mcm\",\"P1\",\"Pbca\",\"P2_13\",\"C2/c\",\"P-3m1\",\"P6_3/m\",\"P2_1/m\",\"Cmc2_1\",\"I4/mmm\",\"P1\",\"P1\",\"P6_3/mmc\",\"P-1\",\"P-6m2\",\"Fm-3m\",\"P1\",\"P2_1/c\",\"P1\",\"P6/mmm\",\"P4_2/mmc\",\"C2/m\",\"Cm\",\"P1\",\"P6_3/mmc\",\"Pnnm\",\"I4/mmm\",\"Pm-3m\",\"F-43m\",\"P2_12_12_1\",\"Pm\",\"Pmmn\",\"I4/mmm\",\"F-43m\",\"P6_3/mmc\",\"P6_3/m\",\"P-3m1\",\"Fm-3m\",\"P4/n\",\"Imm2\",\"F-43m\",\"C2/m\",\"P-6m2\",\"P4/mbm\",\"R-3m\",\"P2_1/c\",\"P6_3/mmc\",\"P2_1/c\",\"Pm-3m\",\"P31c\",\"P2/c\",\"P3_221\",\"C2/m\",\"P6_3/mmc\",\"Fm-3m\",\"P1\",\"R-3c\",\"P1\",\"P6_3mc\",\"C2/c\",\"P6_3/mmc\",\"Fm-3m\",\"P6_322\",\"P1\",\"R3m\",\"P2_1/c\",\"Pm-3m\",\"P6_3/mmc\",\"P-6m2\",\"P4_2/mnm\",\"P-6m2\",\"P1\",\"Pm-3m\",\"P-6m2\",\"R-3m\",\"P6_3/mmc\",\"Pm-3m\",\"P1\",\"P2_1/c\",\"P1\",\"Fm-3m\",\"F-43m\",\"Pnma\",\"P2_12_12_1\",\"P6_3/mmc\",\"F-43m\",\"I4/mmm\",\"P3m1\",\"P6/mmm\",\"P-1\",\"Fd-3m\",\"P6_3/m\",\"I2_13\",\"Pa-3\",\"I4/mmm\",\"P-6m2\",\"Pm-3m\",\"P6_3/mcm\",\"P2_12_12_1\",\"Pc\",\"P1\",\"P1\",\"R3m\",\"Pnma\",\"C2\",\"P4/mmm\",\"Pa-3\",\"P1\",\"Pm-3m\",\"P1\",\"P6_3/m\",\"Ia-3\",\"P2_1/c\",\"Pm-3m\",\"P2_12_12_1\",\"Fm-3m\",\"P2_13\",\"P1\",\"P-6m2\",\"Fm-3m\",\"Ia-3\",\"P2_1/c\",\"F-43m\",\"P1\",\"C2/m\",\"Pm-3m\",\"P2_1/c\",\"P2/m\",\"Pm-3m\",\"P1\",\"Pbcn\",\"F-43m\",\"P4/mbm\",\"P1\",\"F-43m\",\"P6_3/mcm\",\"P2_12_12_1\",\"Pc\",\"F-43m\",\"P2_13\",\"P2_13\",\"P1\",\"P-31m\",\"I4/mmm\",\"P4/mmm\",\"R3m\",\"Pm-3m\",\"Pm-3m\",\"P2_1\",\"P2_1/c\",\"P4_2/mnm\",\"Cmc2_1\",\"P4/mmm\",\"Pnma\",\"P31c\",\"I4/mmm\",\"P-6\",\"P1\",\"I4/mcm\",\"R-3m\",\"I-42d\",\"Pnma\",\"P6_3/mmc\",\"Pm-3m\",\"Cmcm\",\"Ia-3\",\"Immm\",\"Im-3m\",\"P1\",\"P4_2/mmc\",\"Fd-3m\",\"R-3m\",\"Pa-3\",\"R3\",\"P2_1/c\",\"Fm-3m\",\"Fddd\",\"Pm-3m\",\"P4_2/mmc\",\"P4/nmm\",\"C2/c\",\"P1\",\"Pm-3m\",\"C2/c\",\"P6_3/mcm\",\"Fm-3m\",\"P-6m2\",\"P6_3/mmc\",\"Ia-3\",\"P2_1/c\",\"F-43m\",\"Imma\",\"I4_1cd\",\"Ibam\",\"Pmna\",\"P6_3/mmc\",\"Pmn2_1\",\"P6_3mc\",\"C2/m\",\"I4/mcm\",\"P4_2/mmc\",\"P1\",\"I4_1/amd\",\"P2_1/c\",\"Pmn2_1\",\"P2_1\",\"P-3m1\",\"I-4m2\",\"P6_3/mmc\",\"Pnma\",\"P1\",\"C2/m\",\"Fm-3m\",\"P3_1\",\"Fm-3m\",\"P-6m2\",\"P1\",\"P1\",\"P2_12_12\",\"Ama2\",\"Pm-3m\",\"Pnnm\",\"Immm\",\"P-62m\",\"Fm-3m\",\"P6_3mc\",\"R-3m\",\"F-43m\",\"F-43m\",\"P1\",\"P1\",\"P1\",\"P2_12_12_1\",\"C222_1\",\"F-43m\",\"P31c\",\"P6_3mc\",\"Imma\",\"P4/mmm\",\"P1\",\"I4_1/amd\",\"R-3c\",\"P6_3mc\",\"I4/mmm\",\"P6_3mc\",\"F-43m\",\"C2/m\",\"C2\",\"Pa-3\",\"Pbcn\",\"Immm\",\"P4/mmm\",\"Pa-3\",\"P1\",\"P-3m1\",\"Pa-3\",\"I4/m\",\"P1\",\"P2_1/c\",\"Pm-3m\",\"Pm-3m\",\"F-43m\",\"P-43m\",\"P2_12_12_1\",\"P4_2/mmc\",\"P-42m\",\"Fm-3m\",\"P1\",\"Cmcm\",\"C2/m\",\"Pa-3\",\"P-4m2\",\"P-6m2\",\"P4/mmm\",\"R3m\",\"P2_1/m\",\"Pm-3m\",\"P-3m1\",\"F-43m\",\"R-3c\",\"P1\",\"F-43m\",\"Fd-3m\",\"P6_3/mmc\",\"P2_12_12_1\",\"R3m\",\"Cm\",\"Fm-3m\",\"P2_1/c\",\"P2\",\"P31c\",\"I4_1/amd\",\"Cmc2_1\",\"P6_3mc\",\"P4/nmm\",\"Fm-3m\",\"P6_3/mmc\",\"I-42m\",\"Pm-3m\",\"Fm-3m\",\"P-3m1\",\"Pnma\",\"Pnma\",\"I4/mcm\",\"P6_3mc\",\"P6_3/mmc\",\"C2/c\",\"C2/m\",\"P-31m\",\"P1\",\"I4/mmm\",\"P31c\",\"Pnma\",\"Fm-3m\",\"Cc\",\"Ia-3\",\"Pa-3\",\"P2_1/c\",\"R-3m\",\"P2_1/c\",\"F-43m\",\"F-43m\",\"P3_221\",\"P6_3/mmc\",\"Imma\",\"P6_3/mmc\",\"P1\",\"C2/m\",\"Pbca\",\"Im-3\",\"C222_1\",\"C2/m\",\"P1\",\"Pnnm\",\"R-3m\",\"P-6m2\",\"P4_2/n\",\"Pm-3m\",\"Pm-3m\",\"Pa-3\",\"P-1\",\"Cmmm\",\"Pbca\",\"P6_3/m\",\"R-3m\",\"F-43m\",\"P4_2/mnm\",\"R3m\",\"P6_3mc\",\"P4/nmm\",\"C2/m\",\"P-6m2\",\"Pnma\",\"P1\",\"Ibam\",\"I-43d\",\"Cmc2_1\",\"P4/mmm\",\"Pm-3m\",\"Pm-3m\",\"Pnnm\",\"Im-3\",\"I4/mmm\",\"P1\",\"Pm-3m\",\"Pnma\",\"Pm-3m\",\"Pm-3m\",\"I-43d\",\"R-3m\",\"P-1\",\"P6_3/mmc\",\"Pm-3m\",\"Fm-3m\",\"Pm-3m\",\"Im-3\",\"P-6m2\",\"Fm-3m\",\"P6/mmm\",\"P-6m2\",\"P1\",\"P6_3/m\",\"Pnnm\",\"Fm-3m\",\"P6/mmm\",\"P-6m2\",\"Immm\",\"Pm-3m\",\"I-42d\",\"P1\",\"P6_3/mmc\",\"C2/m\",\"P2/m\",\"Cm\",\"Fm-3m\",\"P1\",\"Pnma\",\"P6_3mc\",\"Pm-3m\",\"Cm\"],\"xaxis\":\"x2\",\"y\":[1,1,1,1,1,1,1,1,1,1,1,1,1,1,1,1,1,1,1,1,1,1,1,1,1,1,1,1,1,1,1,1,1,1,1,1,1,1,1,1,1,1,1,1,1,1,1,1,1,1,1,1,1,1,1,1,1,1,1,1,1,1,1,1,1,1,1,1,1,1,1,1,1,1,1,1,1,1,1,1,1,1,1,1,1,1,1,1,1,1,1,1,1,1,1,1,1,1,1,1,1,1,1,1,1,1,1,1,1,1,1,1,1,1,1,1,1,1,1,1,1,1,1,1,1,1,1,1,1,1,1,1,1,1,1,1,1,1,1,1,1,1,1,1,1,1,1,1,1,1,1,1,1,1,1,1,1,1,1,1,1,1,1,1,1,1,1,1,1,1,1,1,1,1,1,1,1,1,1,1,1,1,1,1,1,1,1,1,1,1,1,1,1,1,1,1,1,1,1,1,1,1,1,1,1,1,1,1,1,1,1,1,1,1,1,1,1,1,1,1,1,1,1,1,1,1,1,1,1,1,1,1,1,1,1,1,1,1,1,1,1,1,1,1,1,1,1,1,1,1,1,1,1,1,1,1,1,1,1,1,1,1,1,1,1,1,1,1,1,1,1,1,1,1,1,1,1,1,1,1,1,1,1,1,1,1,1,1,1,1,1,1,1,1,1,1,1,1,1,1,1,1,1,1,1,1,1,1,1,1,1,1,1,1,1,1,1,1,1,1,1,1,1,1,1,1,1,1,1,1,1,1,1,1,1,1,1,1,1,1,1,1,1,1,1,1,1,1,1,1,1,1,1,1,1,1,1,1,1,1,1,1,1,1,1,1,1,1,1,1,1,1,1,1,1,1,1,1,1,1,1,1,1,1,1,1,1,1,1,1,1,1,1,1,1,1,1,1,1,1,1,1,1,1,1,1,1,1,1,1,1,1,1,1,1,1,1,1,1,1,1,1,1,1,1,1,1,1,1,1,1,1,1,1,1,1,1,1,1,1,1,1,1,1,1,1,1,1,1,1,1,1,1,1,1,1,1,1,1,1,1,1,1,1,1,1,1,1,1,1,1,1,1,1,1,1,1,1,1,1,1,1,1,1,1,1,1,1,1,1,1,1,1,1,1,1,1,1,1,1,1,1,1,1,1,1,1,1,1,1,1,1,1,1,1,1,1,1,1,1,1,1,1,1,1,1,1,1,1,1,1,1,1,1,1,1,1,1,1,1,1,1,1,1,1,1,1,1,1,1,1,1,1,1,1,1,1,1,1,1,1,1,1,1,1,1,1,1,1,1,1,1,1,1,1,1,1,1,1,1,1,1,1,1,1,1,1,1,1,1,1,1,1,1,1,1,1,1,1,1,1,1,1,1,1,1,1,1,1,1,1,1,1,1,1,1,1,1,1,1,1,1,1,1,1,1,1,1,1,1,1,1,1,1,1,1,1,1,1,1,1,1,1,1,1,1,1,1,1,1,1,1,1,1,1,1,1,1,1,1,1,1,1,1,1,1,1,1,1,1,1,1,1,1,1,1,1,1,1,1,1,1,1,1,1,1,1,1,1,1,1,1,1,1,1,1,1,1,1,1,1,1,1,1,1,1,1,1,1,1,1,1,1,1,1,1,1,1,1,1,1,1,1,1,1,1,1,1,1,1,1,1,1,1,1,1,1,1,1,1,1,1,1,1,1,1,1,1,1,1,1,1,1,1,1,1,1,1,1,1,1,1,1,1,1,1,1,1,1,1,1,1,1,1,1,1,1,1,1,1,1,1,1,1,1,1,1,1,1,1,1,1,1,1,1,1,1,1,1,1,1,1,1,1,1,1,1,1,1,1,1,1,1,1,1,1,1,1,1,1,1,1,1,1,1,1,1,1,1,1,1,1,1,1,1,1,1,1,1,1,1,1,1,1,1,1,1,1,1,1,1,1,1,1,1,1,1,1,1,1,1,1,1,1,1,1,1,1,1,1,1,1,1,1,1,1,1,1,1,1,1,1,1,1,1,1,1,1,1,1,1,1],\"yaxis\":\"y2\"},{\"alignmentgroup\":\"True\",\"hovertemplate\":\"provider=mcloud.threedd<br>spacegroup=%{x}<br>count=%{y}<extra></extra>\",\"legendgroup\":\"\",\"marker\":{\"color\":\"#636efa\",\"pattern\":{\"shape\":\"\"}},\"name\":\"\",\"offsetgroup\":\"\",\"orientation\":\"v\",\"showlegend\":false,\"textposition\":\"auto\",\"type\":\"bar\",\"x\":[\"P6_3/m\",\"C2/c\",\"Pbca\",\"Fm-3m\",\"P2_1/c\",\"R-3m\",\"Fm-3m\",\"P6_3/mmc\",\"P6_3/mmc\",\"Fm-3m\",\"Fm-3m\",\"P6_3/mmc\",\"P-31m\",\"Pm-3m\",\"P6_3mc\",\"Pm-3m\",\"F-43m\",\"Fm-3m\",\"C2/m\",\"R3c\",\"P6_322\",\"Pnnm\",\"R-3m\",\"Pnma\",\"Pa-3\",\"P6_3/mcm\",\"P6_322\",\"P6_3mc\",\"Im-3\",\"I4/mmm\",\"P-43m\",\"Fm-3m\",\"Pm-3m\",\"P2_1/c\",\"P-6m2\",\"P6_3/m\",\"Im-3m\",\"P6_3/mmc\",\"P-6m2\",\"P6_3/mmc\",\"P2_13\",\"P6/mmm\",\"P6_322\",\"P2_1/c\",\"Pm-3m\",\"F-43m\",\"Pnnm\",\"Fm-3m\",\"P-6m2\",\"P6_3/mmc\",\"P-3m1\",\"P4_2/mnm\",\"Pnnm\",\"P-3m1\",\"Fd-3m\",\"F-43m\",\"Fm-3m\",\"Im-3\",\"I-43d\",\"R-3m\",\"P6_3/mcm\",\"Pnnm\",\"P6_3mc\",\"P6/mmm\",\"R3m\",\"Imm2\",\"Fm-3m\",\"P4/mmm\",\"P2_1/c\",\"Pnma\",\"C2/c\",\"Fddd\",\"I4/m\",\"R-3m\",\"P6_3/mmc\",\"F-43m\",\"Pm-3m\",\"P6_3mc\",\"P6_3/mmc\",\"P-43m\",\"Pm-3m\",\"P6/mmm\",\"Pa-3\",\"P-1\",\"Fm-3m\",\"Pm-3m\",\"Fm-3m\"],\"xaxis\":\"x\",\"y\":[1,1,1,1,1,1,1,1,1,1,1,1,1,1,1,1,1,1,1,1,1,1,1,1,1,1,1,1,1,1,1,1,1,1,1,1,1,1,1,1,1,1,1,1,1,1,1,1,1,1,1,1,1,1,1,1,1,1,1,1,1,1,1,1,1,1,1,1,1,1,1,1,1,1,1,1,1,1,1,1,1,1,1,1,1,1,1],\"yaxis\":\"y\"}],                        {\"annotations\":[{\"font\":{},\"showarrow\":false,\"text\":\"provider=mcloud.threedd\",\"textangle\":90,\"x\":0.98,\"xanchor\":\"left\",\"xref\":\"paper\",\"y\":0.2425,\"yanchor\":\"middle\",\"yref\":\"paper\"},{\"font\":{},\"showarrow\":false,\"text\":\"provider=mp\",\"textangle\":90,\"x\":0.98,\"xanchor\":\"left\",\"xref\":\"paper\",\"y\":0.7575000000000001,\"yanchor\":\"middle\",\"yref\":\"paper\"}],\"barmode\":\"relative\",\"legend\":{\"tracegroupgap\":0},\"margin\":{\"t\":60},\"template\":{\"data\":{\"bar\":[{\"error_x\":{\"color\":\"#2a3f5f\"},\"error_y\":{\"color\":\"#2a3f5f\"},\"marker\":{\"line\":{\"color\":\"#E5ECF6\",\"width\":0.5},\"pattern\":{\"fillmode\":\"overlay\",\"size\":10,\"solidity\":0.2}},\"type\":\"bar\"}],\"barpolar\":[{\"marker\":{\"line\":{\"color\":\"#E5ECF6\",\"width\":0.5},\"pattern\":{\"fillmode\":\"overlay\",\"size\":10,\"solidity\":0.2}},\"type\":\"barpolar\"}],\"carpet\":[{\"aaxis\":{\"endlinecolor\":\"#2a3f5f\",\"gridcolor\":\"white\",\"linecolor\":\"white\",\"minorgridcolor\":\"white\",\"startlinecolor\":\"#2a3f5f\"},\"baxis\":{\"endlinecolor\":\"#2a3f5f\",\"gridcolor\":\"white\",\"linecolor\":\"white\",\"minorgridcolor\":\"white\",\"startlinecolor\":\"#2a3f5f\"},\"type\":\"carpet\"}],\"choropleth\":[{\"colorbar\":{\"outlinewidth\":0,\"ticks\":\"\"},\"type\":\"choropleth\"}],\"contour\":[{\"colorbar\":{\"outlinewidth\":0,\"ticks\":\"\"},\"colorscale\":[[0.0,\"#0d0887\"],[0.1111111111111111,\"#46039f\"],[0.2222222222222222,\"#7201a8\"],[0.3333333333333333,\"#9c179e\"],[0.4444444444444444,\"#bd3786\"],[0.5555555555555556,\"#d8576b\"],[0.6666666666666666,\"#ed7953\"],[0.7777777777777778,\"#fb9f3a\"],[0.8888888888888888,\"#fdca26\"],[1.0,\"#f0f921\"]],\"type\":\"contour\"}],\"contourcarpet\":[{\"colorbar\":{\"outlinewidth\":0,\"ticks\":\"\"},\"type\":\"contourcarpet\"}],\"heatmap\":[{\"colorbar\":{\"outlinewidth\":0,\"ticks\":\"\"},\"colorscale\":[[0.0,\"#0d0887\"],[0.1111111111111111,\"#46039f\"],[0.2222222222222222,\"#7201a8\"],[0.3333333333333333,\"#9c179e\"],[0.4444444444444444,\"#bd3786\"],[0.5555555555555556,\"#d8576b\"],[0.6666666666666666,\"#ed7953\"],[0.7777777777777778,\"#fb9f3a\"],[0.8888888888888888,\"#fdca26\"],[1.0,\"#f0f921\"]],\"type\":\"heatmap\"}],\"heatmapgl\":[{\"colorbar\":{\"outlinewidth\":0,\"ticks\":\"\"},\"colorscale\":[[0.0,\"#0d0887\"],[0.1111111111111111,\"#46039f\"],[0.2222222222222222,\"#7201a8\"],[0.3333333333333333,\"#9c179e\"],[0.4444444444444444,\"#bd3786\"],[0.5555555555555556,\"#d8576b\"],[0.6666666666666666,\"#ed7953\"],[0.7777777777777778,\"#fb9f3a\"],[0.8888888888888888,\"#fdca26\"],[1.0,\"#f0f921\"]],\"type\":\"heatmapgl\"}],\"histogram\":[{\"marker\":{\"pattern\":{\"fillmode\":\"overlay\",\"size\":10,\"solidity\":0.2}},\"type\":\"histogram\"}],\"histogram2d\":[{\"colorbar\":{\"outlinewidth\":0,\"ticks\":\"\"},\"colorscale\":[[0.0,\"#0d0887\"],[0.1111111111111111,\"#46039f\"],[0.2222222222222222,\"#7201a8\"],[0.3333333333333333,\"#9c179e\"],[0.4444444444444444,\"#bd3786\"],[0.5555555555555556,\"#d8576b\"],[0.6666666666666666,\"#ed7953\"],[0.7777777777777778,\"#fb9f3a\"],[0.8888888888888888,\"#fdca26\"],[1.0,\"#f0f921\"]],\"type\":\"histogram2d\"}],\"histogram2dcontour\":[{\"colorbar\":{\"outlinewidth\":0,\"ticks\":\"\"},\"colorscale\":[[0.0,\"#0d0887\"],[0.1111111111111111,\"#46039f\"],[0.2222222222222222,\"#7201a8\"],[0.3333333333333333,\"#9c179e\"],[0.4444444444444444,\"#bd3786\"],[0.5555555555555556,\"#d8576b\"],[0.6666666666666666,\"#ed7953\"],[0.7777777777777778,\"#fb9f3a\"],[0.8888888888888888,\"#fdca26\"],[1.0,\"#f0f921\"]],\"type\":\"histogram2dcontour\"}],\"mesh3d\":[{\"colorbar\":{\"outlinewidth\":0,\"ticks\":\"\"},\"type\":\"mesh3d\"}],\"parcoords\":[{\"line\":{\"colorbar\":{\"outlinewidth\":0,\"ticks\":\"\"}},\"type\":\"parcoords\"}],\"pie\":[{\"automargin\":true,\"type\":\"pie\"}],\"scatter\":[{\"marker\":{\"colorbar\":{\"outlinewidth\":0,\"ticks\":\"\"}},\"type\":\"scatter\"}],\"scatter3d\":[{\"line\":{\"colorbar\":{\"outlinewidth\":0,\"ticks\":\"\"}},\"marker\":{\"colorbar\":{\"outlinewidth\":0,\"ticks\":\"\"}},\"type\":\"scatter3d\"}],\"scattercarpet\":[{\"marker\":{\"colorbar\":{\"outlinewidth\":0,\"ticks\":\"\"}},\"type\":\"scattercarpet\"}],\"scattergeo\":[{\"marker\":{\"colorbar\":{\"outlinewidth\":0,\"ticks\":\"\"}},\"type\":\"scattergeo\"}],\"scattergl\":[{\"marker\":{\"colorbar\":{\"outlinewidth\":0,\"ticks\":\"\"}},\"type\":\"scattergl\"}],\"scattermapbox\":[{\"marker\":{\"colorbar\":{\"outlinewidth\":0,\"ticks\":\"\"}},\"type\":\"scattermapbox\"}],\"scatterpolar\":[{\"marker\":{\"colorbar\":{\"outlinewidth\":0,\"ticks\":\"\"}},\"type\":\"scatterpolar\"}],\"scatterpolargl\":[{\"marker\":{\"colorbar\":{\"outlinewidth\":0,\"ticks\":\"\"}},\"type\":\"scatterpolargl\"}],\"scatterternary\":[{\"marker\":{\"colorbar\":{\"outlinewidth\":0,\"ticks\":\"\"}},\"type\":\"scatterternary\"}],\"surface\":[{\"colorbar\":{\"outlinewidth\":0,\"ticks\":\"\"},\"colorscale\":[[0.0,\"#0d0887\"],[0.1111111111111111,\"#46039f\"],[0.2222222222222222,\"#7201a8\"],[0.3333333333333333,\"#9c179e\"],[0.4444444444444444,\"#bd3786\"],[0.5555555555555556,\"#d8576b\"],[0.6666666666666666,\"#ed7953\"],[0.7777777777777778,\"#fb9f3a\"],[0.8888888888888888,\"#fdca26\"],[1.0,\"#f0f921\"]],\"type\":\"surface\"}],\"table\":[{\"cells\":{\"fill\":{\"color\":\"#EBF0F8\"},\"line\":{\"color\":\"white\"}},\"header\":{\"fill\":{\"color\":\"#C8D4E3\"},\"line\":{\"color\":\"white\"}},\"type\":\"table\"}]},\"layout\":{\"annotationdefaults\":{\"arrowcolor\":\"#2a3f5f\",\"arrowhead\":0,\"arrowwidth\":1},\"autotypenumbers\":\"strict\",\"coloraxis\":{\"colorbar\":{\"outlinewidth\":0,\"ticks\":\"\"}},\"colorscale\":{\"diverging\":[[0,\"#8e0152\"],[0.1,\"#c51b7d\"],[0.2,\"#de77ae\"],[0.3,\"#f1b6da\"],[0.4,\"#fde0ef\"],[0.5,\"#f7f7f7\"],[0.6,\"#e6f5d0\"],[0.7,\"#b8e186\"],[0.8,\"#7fbc41\"],[0.9,\"#4d9221\"],[1,\"#276419\"]],\"sequential\":[[0.0,\"#0d0887\"],[0.1111111111111111,\"#46039f\"],[0.2222222222222222,\"#7201a8\"],[0.3333333333333333,\"#9c179e\"],[0.4444444444444444,\"#bd3786\"],[0.5555555555555556,\"#d8576b\"],[0.6666666666666666,\"#ed7953\"],[0.7777777777777778,\"#fb9f3a\"],[0.8888888888888888,\"#fdca26\"],[1.0,\"#f0f921\"]],\"sequentialminus\":[[0.0,\"#0d0887\"],[0.1111111111111111,\"#46039f\"],[0.2222222222222222,\"#7201a8\"],[0.3333333333333333,\"#9c179e\"],[0.4444444444444444,\"#bd3786\"],[0.5555555555555556,\"#d8576b\"],[0.6666666666666666,\"#ed7953\"],[0.7777777777777778,\"#fb9f3a\"],[0.8888888888888888,\"#fdca26\"],[1.0,\"#f0f921\"]]},\"colorway\":[\"#636efa\",\"#EF553B\",\"#00cc96\",\"#ab63fa\",\"#FFA15A\",\"#19d3f3\",\"#FF6692\",\"#B6E880\",\"#FF97FF\",\"#FECB52\"],\"font\":{\"color\":\"#2a3f5f\"},\"geo\":{\"bgcolor\":\"white\",\"lakecolor\":\"white\",\"landcolor\":\"#E5ECF6\",\"showlakes\":true,\"showland\":true,\"subunitcolor\":\"white\"},\"hoverlabel\":{\"align\":\"left\"},\"hovermode\":\"closest\",\"mapbox\":{\"style\":\"light\"},\"paper_bgcolor\":\"white\",\"plot_bgcolor\":\"#E5ECF6\",\"polar\":{\"angularaxis\":{\"gridcolor\":\"white\",\"linecolor\":\"white\",\"ticks\":\"\"},\"bgcolor\":\"#E5ECF6\",\"radialaxis\":{\"gridcolor\":\"white\",\"linecolor\":\"white\",\"ticks\":\"\"}},\"scene\":{\"xaxis\":{\"backgroundcolor\":\"#E5ECF6\",\"gridcolor\":\"white\",\"gridwidth\":2,\"linecolor\":\"white\",\"showbackground\":true,\"ticks\":\"\",\"zerolinecolor\":\"white\"},\"yaxis\":{\"backgroundcolor\":\"#E5ECF6\",\"gridcolor\":\"white\",\"gridwidth\":2,\"linecolor\":\"white\",\"showbackground\":true,\"ticks\":\"\",\"zerolinecolor\":\"white\"},\"zaxis\":{\"backgroundcolor\":\"#E5ECF6\",\"gridcolor\":\"white\",\"gridwidth\":2,\"linecolor\":\"white\",\"showbackground\":true,\"ticks\":\"\",\"zerolinecolor\":\"white\"}},\"shapedefaults\":{\"line\":{\"color\":\"#2a3f5f\"}},\"ternary\":{\"aaxis\":{\"gridcolor\":\"white\",\"linecolor\":\"white\",\"ticks\":\"\"},\"baxis\":{\"gridcolor\":\"white\",\"linecolor\":\"white\",\"ticks\":\"\"},\"bgcolor\":\"#E5ECF6\",\"caxis\":{\"gridcolor\":\"white\",\"linecolor\":\"white\",\"ticks\":\"\"}},\"title\":{\"x\":0.05},\"xaxis\":{\"automargin\":true,\"gridcolor\":\"white\",\"linecolor\":\"white\",\"ticks\":\"\",\"title\":{\"standoff\":15},\"zerolinecolor\":\"white\",\"zerolinewidth\":2},\"yaxis\":{\"automargin\":true,\"gridcolor\":\"white\",\"linecolor\":\"white\",\"ticks\":\"\",\"title\":{\"standoff\":15},\"zerolinecolor\":\"white\",\"zerolinewidth\":2}}},\"xaxis\":{\"anchor\":\"y\",\"domain\":[0.0,0.98],\"title\":{\"text\":\"spacegroup\"}},\"xaxis2\":{\"anchor\":\"y2\",\"domain\":[0.0,0.98],\"matches\":\"x\",\"showticklabels\":false},\"yaxis\":{\"anchor\":\"x\",\"domain\":[0.0,0.485],\"title\":{\"text\":\"count\"}},\"yaxis2\":{\"anchor\":\"x2\",\"domain\":[0.515,1.0],\"matches\":\"y\",\"title\":{\"text\":\"count\"}}},                        {\"responsive\": true}                    ).then(function(){\n",
              "                            \n",
              "var gd = document.getElementById('a12b656a-4ddc-4b53-bd4d-4dbcc6f61374');\n",
              "var x = new MutationObserver(function (mutations, observer) {{\n",
              "        var display = window.getComputedStyle(gd).display;\n",
              "        if (!display || display === 'none') {{\n",
              "            console.log([gd, 'removed!']);\n",
              "            Plotly.purge(gd);\n",
              "            observer.disconnect();\n",
              "        }}\n",
              "}});\n",
              "\n",
              "// Listen for the removal of the full notebook cells\n",
              "var notebookContainer = gd.closest('#notebook-container');\n",
              "if (notebookContainer) {{\n",
              "    x.observe(notebookContainer, {childList: true});\n",
              "}}\n",
              "\n",
              "// Listen for the clearing of the current output cell\n",
              "var outputEl = gd.closest('.output');\n",
              "if (outputEl) {{\n",
              "    x.observe(outputEl, {childList: true});\n",
              "}}\n",
              "\n",
              "                        })                };                            </script>        </div>\n",
              "</body>\n",
              "</html>"
            ]
          },
          "metadata": {},
          "output_type": "display_data"
        }
      ],
      "source": [
        "px.bar(df, x=\"spacegroup\", facet_row=\"provider\")"
      ]
    },
    {
      "cell_type": "markdown",
      "metadata": {
        "id": "Rqj5hwDeJ8hT"
      },
      "source": [
        "**Remember, there is no single \"best database\" to use. Every database might be constructed for a specific purpose, subject to different biases, with different data qualities and sources.**\n",
        "\n",
        "The ideal database for one scientist with one application in mind may be different to the ideal database for another scientist with a different application.\n",
        "\n",
        "**The power of OPTIMADE is that you can query across multiple databases!**"
      ]
    },
    {
      "cell_type": "markdown",
      "metadata": {
        "id": "bgVYGrKgH8hD"
      },
      "source": [
        "# Advanced usage: querying using the OPTIMADE filter grammar"
      ]
    },
    {
      "cell_type": "markdown",
      "metadata": {
        "id": "7DleRA6lIBjQ"
      },
      "source": [
        "You can also query using an OPTIMADE filter as defined in the OPTIMADE specification and publication.\n",
        "\n",
        "**This is recommended** for advanced queries to use the full power of OPTIMADE.\n",
        "\n",
        "For example, the above query could have equally been performed as:"
      ]
    },
    {
      "cell_type": "code",
      "execution_count": 125,
      "metadata": {
        "colab": {
          "base_uri": "https://localhost:8080/"
        },
        "id": "tPYRnwpiHqwc",
        "outputId": "c306708c-8c78-474a-af4d-ccea2e6b4b63"
      },
      "outputs": [
        {
          "name": "stderr",
          "output_type": "stream",
          "text": [
            "\n",
            "mp:   2%|▏         | 20/892 [00:00<?, ?it/s]\u001b[A\n",
            "mp:   4%|▍         | 40/892 [00:00<00:11, 72.90it/s]\u001b[A\n",
            "mp:   7%|▋         | 60/892 [00:00<00:11, 72.88it/s]\u001b[A\n",
            "mp:   9%|▉         | 80/892 [00:00<00:11, 72.95it/s]\u001b[A\n",
            "mp:  11%|█         | 100/892 [00:01<00:12, 65.69it/s]\u001b[A\n",
            "mp:  13%|█▎        | 120/892 [00:01<00:14, 54.45it/s]\u001b[A\n",
            "\n",
            "\n",
            "mp: 100%|██████████| 892/892 [00:27<00:00, 47.21it/s]\u001b[A\u001b[A\u001b[A\n",
            "mp:  16%|█▌        | 140/892 [00:02<00:13, 54.42it/s]\u001b[A\n",
            "mp:  18%|█▊        | 160/892 [00:02<00:13, 54.52it/s]\u001b[A\n",
            "mp:  20%|██        | 180/892 [00:02<00:12, 57.95it/s]\u001b[A\n",
            "mp:  22%|██▏       | 200/892 [00:02<00:11, 61.80it/s]\u001b[A\n",
            "mp:  25%|██▍       | 220/892 [00:03<00:10, 63.65it/s]\u001b[A\n",
            "mp: 100%|██████████| 892/892 [00:29<00:00, 29.79it/s]\n",
            "mcloud.threedd: 100%|██████████| 87/87 [00:12<00:00,  5.91it/s]\n",
            "\n",
            "mp:  29%|██▉       | 260/892 [00:03<00:10, 57.87it/s]\u001b[A\n",
            "mp:  31%|███▏      | 280/892 [00:04<00:10, 57.30it/s]\u001b[A\n",
            "mp:  34%|███▎      | 300/892 [00:04<00:09, 60.09it/s]\u001b[A\n",
            "mp:  36%|███▌      | 320/892 [00:04<00:09, 62.86it/s]\u001b[A\n",
            "mp:  38%|███▊      | 340/892 [00:05<00:08, 64.44it/s]\u001b[A\n",
            "mp:  40%|████      | 360/892 [00:05<00:08, 64.95it/s]\u001b[A\n",
            "mp:  43%|████▎     | 380/892 [00:05<00:07, 70.98it/s]\u001b[A\n",
            "mp:  45%|████▍     | 400/892 [00:06<00:06, 70.61it/s]\u001b[A\n",
            "mp:  47%|████▋     | 420/892 [00:06<00:06, 70.85it/s]\u001b[A\n",
            "mp:  49%|████▉     | 440/892 [00:06<00:06, 68.00it/s]\u001b[A\n",
            "mp:  52%|█████▏    | 460/892 [00:06<00:06, 69.75it/s]\u001b[A\n",
            "mp:  54%|█████▍    | 480/892 [00:07<00:06, 63.08it/s]\u001b[A\n",
            "mp:  56%|█████▌    | 500/892 [00:07<00:06, 64.69it/s]\u001b[A\n",
            "mp:  58%|█████▊    | 520/892 [00:07<00:05, 65.02it/s]\u001b[A\n",
            "mp:  61%|██████    | 540/892 [00:08<00:05, 67.29it/s]\u001b[A\n",
            "mp:  63%|██████▎   | 560/892 [00:08<00:05, 62.68it/s]\u001b[A\n",
            "mp:  65%|██████▌   | 580/892 [00:08<00:04, 62.63it/s]\u001b[A\n",
            "mp:  67%|██████▋   | 600/892 [00:09<00:04, 58.89it/s]\u001b[A\n",
            "mp:  70%|██████▉   | 620/892 [00:09<00:04, 57.19it/s]\u001b[A\n",
            "mp:  72%|███████▏  | 640/892 [00:09<00:04, 58.50it/s]\u001b[A\n",
            "mp:  74%|███████▍  | 660/892 [00:10<00:03, 62.53it/s]\u001b[A\n",
            "mp:  76%|███████▌  | 680/892 [00:10<00:03, 54.97it/s]\u001b[A\n",
            "mp:  78%|███████▊  | 700/892 [00:10<00:03, 58.01it/s]\u001b[A\n",
            "mp:  81%|████████  | 720/892 [00:11<00:02, 60.39it/s]\u001b[A\n",
            "mp:  83%|████████▎ | 740/892 [00:11<00:03, 49.75it/s]\u001b[A\n",
            "mp:  85%|████████▌ | 760/892 [00:12<00:02, 51.13it/s]\u001b[A\n",
            "mp:  87%|████████▋ | 780/892 [00:12<00:02, 55.38it/s]\u001b[A\n",
            "mp:  90%|████████▉ | 800/892 [00:12<00:01, 58.72it/s]\u001b[A\n",
            "mp:  92%|█████████▏| 820/892 [00:13<00:01, 53.50it/s]\u001b[A\n",
            "mp:  94%|█████████▍| 840/892 [00:13<00:00, 56.96it/s]\u001b[A\n",
            "mp:  96%|█████████▋| 860/892 [00:13<00:00, 63.27it/s]\u001b[A\n",
            "mp:  99%|█████████▊| 880/892 [00:14<00:00, 64.92it/s]\u001b[A\n",
            "mcloud.threedd: 100%|██████████| 87/87 [00:02<00:00, 31.86it/s]"
          ]
        }
      ],
      "source": [
        "results = opt.get_structures_with_filter('(elements HAS ALL \"N\") AND (nelements=2)')"
      ]
    },
    {
      "cell_type": "markdown",
      "metadata": {
        "id": "aIweKxr2ItcS"
      },
      "source": [
        "# Advanced usage: retrieving provider-specific property information\n",
        "\n",
        "The OPTIMADE specification allows for providers to include database-specific information in the returned data, prefixed by namespace.\n",
        "\n",
        "To access this information with *pymatgen* we have to request \"snls\" (`StructureNL`) instead of \"structures\". A `StructureNL` is a `Structure` with additional metadata included, such as the URL it was downloaded from and any of this additional database-specific information."
      ]
    },
    {
      "cell_type": "code",
      "execution_count": 126,
      "metadata": {
        "colab": {
          "base_uri": "https://localhost:8080/"
        },
        "id": "XqvfXpXgIafz",
        "outputId": "f5619590-1051-40f6-d7b3-11725144792a"
      },
      "outputs": [
        {
          "name": "stderr",
          "output_type": "stream",
          "text": [
            "\n",
            "\n",
            "odbx:  37%|███▋      | 20/54 [00:00<?, ?it/s]\u001b[A\u001b[A\n",
            "\n",
            "odbx:  74%|███████▍  | 40/54 [00:00<00:00, 31.84it/s]\u001b[A\u001b[A\n",
            "\n",
            "odbx: 100%|██████████| 54/54 [00:01<00:00, 27.29it/s]\u001b[A\u001b[A"
          ]
        }
      ],
      "source": [
        "results_snls = OptimadeRester(\"odbx\").get_snls(nelements=2, additional_response_fields=[\"_odbx_thermodynamics\"])"
      ]
    },
    {
      "cell_type": "code",
      "execution_count": 127,
      "metadata": {
        "id": "M2T0dGN0Khsm"
      },
      "outputs": [],
      "source": [
        "example_snl = results_snls['odbx']['odbx/2']"
      ]
    },
    {
      "cell_type": "code",
      "execution_count": 128,
      "metadata": {
        "colab": {
          "base_uri": "https://localhost:8080/"
        },
        "id": "qV--VAdvNrKn",
        "outputId": "56d0e3b0-56c8-4664-8dbb-11c9c5f1758d"
      },
      "outputs": [
        {
          "data": {
            "text/plain": [
              "{'enthalpy': -816.9762466666666,\n",
              " 'formation_energy': -0.39885422222209854,\n",
              " 'hull_distance': 0.0004641666667737354,\n",
              " 'relative_enthalpy': None,\n",
              " 'total_energy': -816.9727734428334}"
            ]
          },
          "execution_count": 128,
          "metadata": {},
          "output_type": "execute_result"
        }
      ],
      "source": [
        "example_snl.data['_optimade']['_odbx_thermodynamics']"
      ]
    },
    {
      "cell_type": "markdown",
      "metadata": {
        "id": "NMppI0eiN4jF"
      },
      "source": [
        "This extra data provided differs from every database, and sometimes from material to material, so some exploration is required!"
      ]
    },
    {
      "cell_type": "markdown",
      "metadata": {
        "id": "JNWBkj91LWWO"
      },
      "source": [
        "# When Things Go Wrong and How to Get Help\n",
        "\n",
        "Bugs may be present! The `OptimadeRester` is still fairly new.\n",
        "\n",
        "If it does not work it is likely because of either:\n",
        "\n",
        "* A bug in the *pymatgen* code. This may be reported directly to Matthew Horton at mkhorton@lbl.gov or an issue can be opened in the *pymatgen* code repository. Matt apologises in advance if this is the case! \n",
        "\n",
        "* An issue with a provider. This may be because the provider does not yet fully follow the OPTIMADE specification, because the provider is suffering an outage, or because the filters are not yet optimized with that provider.\n",
        "\n",
        "    * If this happens, you may try to first increase the `timeout` value to something larger. The default is too low for some providers.\n",
        "\n",
        "    * Otherwise, you may want to contact the provider directly, or create a post at the OPTIMADE discussion forum: https://matsci.org/optimade\n",
        "\n",
        "# How to Get Involved\n",
        "\n",
        "New developers are very welcome to add code to *pymatgen*! If you want to get involved, help fix bugs or add new features, your help would be very much appreciated. *pymatgen* can only exist and be what it is today thanks to the many efforts of its [development team](https://pymatgen.org/team.html)."
      ]
    }
  ],
  "metadata": {
    "colab": {
      "collapsed_sections": [],
      "name": "OPTIMADE tutorial with pymatgen.ipynb",
      "provenance": []
    },
    "kernelspec": {
      "display_name": "Python 3.9.12 ('optimade_39')",
      "language": "python",
      "name": "python3"
    },
    "language_info": {
      "name": "python",
      "version": "3.9.12"
    },
    "vscode": {
      "interpreter": {
        "hash": "aba44ae4de6e4ad6c6ed049de3bd37f83e5fa31c56eecbd2c7dd1c3d1baa4d3b"
      }
    }
  },
  "nbformat": 4,
  "nbformat_minor": 0
}
